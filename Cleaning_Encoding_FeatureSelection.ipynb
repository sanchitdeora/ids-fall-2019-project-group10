{
  "nbformat": 4,
  "nbformat_minor": 0,
  "metadata": {
    "colab": {
      "name": "IDS_featuer_selection_lab.ipynb",
      "provenance": []
    },
    "kernelspec": {
      "display_name": "Python 3",
      "language": "python",
      "name": "python3"
    },
    "language_info": {
      "codemirror_mode": {
        "name": "ipython",
        "version": 3
      },
      "file_extension": ".py",
      "mimetype": "text/x-python",
      "name": "python",
      "nbconvert_exporter": "python",
      "pygments_lexer": "ipython3",
      "version": "3.7.4"
    }
  },
  "cells": [
    {
      "cell_type": "code",
      "metadata": {
        "colab_type": "code",
        "id": "3lxq2_bM-DSo",
        "outputId": "17832d5b-ea32-4442-9ce6-2535f747034b",
        "colab": {
          "base_uri": "https://localhost:8080/",
          "height": 34
        }
      },
      "source": [
        "from google.colab import drive\n",
        "drive.mount('/content/drive')"
      ],
      "execution_count": 17,
      "outputs": [
        {
          "output_type": "stream",
          "text": [
            "Drive already mounted at /content/drive; to attempt to forcibly remount, call drive.mount(\"/content/drive\", force_remount=True).\n"
          ],
          "name": "stdout"
        }
      ]
    },
    {
      "cell_type": "code",
      "metadata": {
        "colab_type": "code",
        "id": "nDBYWg-F-bkN",
        "outputId": "020b491d-f8de-405b-c16b-55d5696a956c",
        "colab": {
          "base_uri": "https://localhost:8080/",
          "height": 34
        }
      },
      "source": [
        "%cd '/content/drive/My Drive/UF/Intro to Data Science/Project'"
      ],
      "execution_count": 18,
      "outputs": [
        {
          "output_type": "stream",
          "text": [
            "/content/drive/My Drive/UF/Intro to Data Science/Project\n"
          ],
          "name": "stdout"
        }
      ]
    },
    {
      "cell_type": "code",
      "metadata": {
        "colab_type": "code",
        "id": "GaCItEWFI-0t",
        "outputId": "f5795679-a91a-49ea-8ebb-6080bbe7800e",
        "colab": {
          "base_uri": "https://localhost:8080/",
          "height": 52
        }
      },
      "source": [
        "%ls"
      ],
      "execution_count": 19,
      "outputs": [
        {
          "output_type": "stream",
          "text": [
            " 11142019_train_subsampled.csv   IDS_featuer_selection_lab.ipynb\n",
            "'Data Cleaning.ipynb'            IDS_featuer_selection.py\n"
          ],
          "name": "stdout"
        }
      ]
    },
    {
      "cell_type": "code",
      "metadata": {
        "colab_type": "code",
        "id": "LKqjkdj6IF_q",
        "colab": {}
      },
      "source": [
        "import pandas as pd"
      ],
      "execution_count": 0,
      "outputs": []
    },
    {
      "cell_type": "code",
      "metadata": {
        "colab_type": "code",
        "id": "yLA5hc--I8E6",
        "outputId": "d873816c-e1e3-4090-b0ad-a1349b4adddf",
        "colab": {
          "base_uri": "https://localhost:8080/",
          "height": 370
        }
      },
      "source": [
        "df = pd.read_csv(\"11142019_train_subsampled.csv\")\n",
        "df.head()"
      ],
      "execution_count": 32,
      "outputs": [
        {
          "output_type": "stream",
          "text": [
            "/usr/local/lib/python3.6/dist-packages/IPython/core/interactiveshell.py:2718: DtypeWarning: Columns (6,37) have mixed types. Specify dtype option on import or set low_memory=False.\n",
            "  interactivity=interactivity, compiler=compiler, result=result)\n"
          ],
          "name": "stderr"
        },
        {
          "output_type": "execute_result",
          "data": {
            "text/html": [
              "<div>\n",
              "<style scoped>\n",
              "    .dataframe tbody tr th:only-of-type {\n",
              "        vertical-align: middle;\n",
              "    }\n",
              "\n",
              "    .dataframe tbody tr th {\n",
              "        vertical-align: top;\n",
              "    }\n",
              "\n",
              "    .dataframe thead th {\n",
              "        text-align: right;\n",
              "    }\n",
              "</style>\n",
              "<table border=\"1\" class=\"dataframe\">\n",
              "  <thead>\n",
              "    <tr style=\"text-align: right;\">\n",
              "      <th></th>\n",
              "      <th>channelGrouping</th>\n",
              "      <th>date</th>\n",
              "      <th>device.browser</th>\n",
              "      <th>device.deviceCategory</th>\n",
              "      <th>device.isMobile</th>\n",
              "      <th>device.operatingSystem</th>\n",
              "      <th>fullVisitorId</th>\n",
              "      <th>geoNetwork.city</th>\n",
              "      <th>geoNetwork.cityId</th>\n",
              "      <th>geoNetwork.continent</th>\n",
              "      <th>geoNetwork.country</th>\n",
              "      <th>geoNetwork.latitude</th>\n",
              "      <th>geoNetwork.longitude</th>\n",
              "      <th>geoNetwork.metro</th>\n",
              "      <th>geoNetwork.networkDomain</th>\n",
              "      <th>geoNetwork.networkLocation</th>\n",
              "      <th>geoNetwork.region</th>\n",
              "      <th>geoNetwork.subContinent</th>\n",
              "      <th>socialEngagementType</th>\n",
              "      <th>totals.bounces</th>\n",
              "      <th>totals.hits</th>\n",
              "      <th>totals.newVisits</th>\n",
              "      <th>totals.pageviews</th>\n",
              "      <th>totals.sessionQualityDim</th>\n",
              "      <th>totals.timeOnSite</th>\n",
              "      <th>totals.totalTransactionRevenue</th>\n",
              "      <th>totals.transactionRevenue</th>\n",
              "      <th>totals.transactions</th>\n",
              "      <th>totals.visits</th>\n",
              "      <th>trafficSource.adContent</th>\n",
              "      <th>trafficSource.adwordsClickInfo.adNetworkType</th>\n",
              "      <th>trafficSource.adwordsClickInfo.criteriaParameters</th>\n",
              "      <th>trafficSource.adwordsClickInfo.gclId</th>\n",
              "      <th>trafficSource.adwordsClickInfo.isVideoAd</th>\n",
              "      <th>trafficSource.adwordsClickInfo.page</th>\n",
              "      <th>trafficSource.adwordsClickInfo.slot</th>\n",
              "      <th>trafficSource.campaign</th>\n",
              "      <th>trafficSource.campaignCode</th>\n",
              "      <th>trafficSource.isTrueDirect</th>\n",
              "      <th>trafficSource.keyword</th>\n",
              "      <th>trafficSource.medium</th>\n",
              "      <th>trafficSource.referralPath</th>\n",
              "      <th>trafficSource.source</th>\n",
              "      <th>visitId</th>\n",
              "      <th>visitNumber</th>\n",
              "      <th>visitStartTime</th>\n",
              "      <th>new.returningCustomer</th>\n",
              "    </tr>\n",
              "  </thead>\n",
              "  <tbody>\n",
              "    <tr>\n",
              "      <th>0</th>\n",
              "      <td>Referral</td>\n",
              "      <td>20171016</td>\n",
              "      <td>Chrome</td>\n",
              "      <td>desktop</td>\n",
              "      <td>False</td>\n",
              "      <td>Chrome OS</td>\n",
              "      <td>8934116514970143966</td>\n",
              "      <td>Cupertino</td>\n",
              "      <td>not available in demo dataset</td>\n",
              "      <td>Americas</td>\n",
              "      <td>United States</td>\n",
              "      <td>not available in demo dataset</td>\n",
              "      <td>not available in demo dataset</td>\n",
              "      <td>San Francisco-Oakland-San Jose CA</td>\n",
              "      <td>(not set)</td>\n",
              "      <td>not available in demo dataset</td>\n",
              "      <td>California</td>\n",
              "      <td>Northern America</td>\n",
              "      <td>Not Socially Engaged</td>\n",
              "      <td>NaN</td>\n",
              "      <td>2</td>\n",
              "      <td>NaN</td>\n",
              "      <td>2.0</td>\n",
              "      <td>2.0</td>\n",
              "      <td>28.0</td>\n",
              "      <td>NaN</td>\n",
              "      <td>NaN</td>\n",
              "      <td>NaN</td>\n",
              "      <td>1</td>\n",
              "      <td>NaN</td>\n",
              "      <td>NaN</td>\n",
              "      <td>not available in demo dataset</td>\n",
              "      <td>NaN</td>\n",
              "      <td>NaN</td>\n",
              "      <td>NaN</td>\n",
              "      <td>NaN</td>\n",
              "      <td>(not set)</td>\n",
              "      <td>NaN</td>\n",
              "      <td>NaN</td>\n",
              "      <td>NaN</td>\n",
              "      <td>referral</td>\n",
              "      <td>/a/google.com/transportation/mtv-services/bike...</td>\n",
              "      <td>sites.google.com</td>\n",
              "      <td>1508176307</td>\n",
              "      <td>6</td>\n",
              "      <td>1508176307</td>\n",
              "      <td>1</td>\n",
              "    </tr>\n",
              "    <tr>\n",
              "      <th>1</th>\n",
              "      <td>Direct</td>\n",
              "      <td>20171016</td>\n",
              "      <td>Chrome</td>\n",
              "      <td>mobile</td>\n",
              "      <td>True</td>\n",
              "      <td>Android</td>\n",
              "      <td>7992466427990357681</td>\n",
              "      <td>not available in demo dataset</td>\n",
              "      <td>not available in demo dataset</td>\n",
              "      <td>Americas</td>\n",
              "      <td>United States</td>\n",
              "      <td>not available in demo dataset</td>\n",
              "      <td>not available in demo dataset</td>\n",
              "      <td>not available in demo dataset</td>\n",
              "      <td>windjammercable.net</td>\n",
              "      <td>not available in demo dataset</td>\n",
              "      <td>not available in demo dataset</td>\n",
              "      <td>Northern America</td>\n",
              "      <td>Not Socially Engaged</td>\n",
              "      <td>NaN</td>\n",
              "      <td>2</td>\n",
              "      <td>1.0</td>\n",
              "      <td>2.0</td>\n",
              "      <td>1.0</td>\n",
              "      <td>38.0</td>\n",
              "      <td>NaN</td>\n",
              "      <td>NaN</td>\n",
              "      <td>NaN</td>\n",
              "      <td>1</td>\n",
              "      <td>NaN</td>\n",
              "      <td>NaN</td>\n",
              "      <td>not available in demo dataset</td>\n",
              "      <td>NaN</td>\n",
              "      <td>NaN</td>\n",
              "      <td>NaN</td>\n",
              "      <td>NaN</td>\n",
              "      <td>(not set)</td>\n",
              "      <td>NaN</td>\n",
              "      <td>True</td>\n",
              "      <td>NaN</td>\n",
              "      <td>(none)</td>\n",
              "      <td>NaN</td>\n",
              "      <td>(direct)</td>\n",
              "      <td>1508201613</td>\n",
              "      <td>1</td>\n",
              "      <td>1508201613</td>\n",
              "      <td>0</td>\n",
              "    </tr>\n",
              "    <tr>\n",
              "      <th>2</th>\n",
              "      <td>Organic Search</td>\n",
              "      <td>20171016</td>\n",
              "      <td>Chrome</td>\n",
              "      <td>desktop</td>\n",
              "      <td>False</td>\n",
              "      <td>Windows</td>\n",
              "      <td>9075655783635761930</td>\n",
              "      <td>not available in demo dataset</td>\n",
              "      <td>not available in demo dataset</td>\n",
              "      <td>Asia</td>\n",
              "      <td>Turkey</td>\n",
              "      <td>not available in demo dataset</td>\n",
              "      <td>not available in demo dataset</td>\n",
              "      <td>not available in demo dataset</td>\n",
              "      <td>unknown.unknown</td>\n",
              "      <td>not available in demo dataset</td>\n",
              "      <td>not available in demo dataset</td>\n",
              "      <td>Western Asia</td>\n",
              "      <td>Not Socially Engaged</td>\n",
              "      <td>NaN</td>\n",
              "      <td>2</td>\n",
              "      <td>1.0</td>\n",
              "      <td>2.0</td>\n",
              "      <td>1.0</td>\n",
              "      <td>1.0</td>\n",
              "      <td>NaN</td>\n",
              "      <td>NaN</td>\n",
              "      <td>NaN</td>\n",
              "      <td>1</td>\n",
              "      <td>NaN</td>\n",
              "      <td>NaN</td>\n",
              "      <td>not available in demo dataset</td>\n",
              "      <td>NaN</td>\n",
              "      <td>NaN</td>\n",
              "      <td>NaN</td>\n",
              "      <td>NaN</td>\n",
              "      <td>(not set)</td>\n",
              "      <td>NaN</td>\n",
              "      <td>NaN</td>\n",
              "      <td>(not provided)</td>\n",
              "      <td>organic</td>\n",
              "      <td>NaN</td>\n",
              "      <td>google</td>\n",
              "      <td>1508169851</td>\n",
              "      <td>1</td>\n",
              "      <td>1508169851</td>\n",
              "      <td>0</td>\n",
              "    </tr>\n",
              "    <tr>\n",
              "      <th>3</th>\n",
              "      <td>Organic Search</td>\n",
              "      <td>20171016</td>\n",
              "      <td>Chrome</td>\n",
              "      <td>desktop</td>\n",
              "      <td>False</td>\n",
              "      <td>Windows</td>\n",
              "      <td>6960673291025684308</td>\n",
              "      <td>not available in demo dataset</td>\n",
              "      <td>not available in demo dataset</td>\n",
              "      <td>Americas</td>\n",
              "      <td>Mexico</td>\n",
              "      <td>not available in demo dataset</td>\n",
              "      <td>not available in demo dataset</td>\n",
              "      <td>not available in demo dataset</td>\n",
              "      <td>prod-infinitum.com.mx</td>\n",
              "      <td>not available in demo dataset</td>\n",
              "      <td>not available in demo dataset</td>\n",
              "      <td>Central America</td>\n",
              "      <td>Not Socially Engaged</td>\n",
              "      <td>NaN</td>\n",
              "      <td>2</td>\n",
              "      <td>1.0</td>\n",
              "      <td>2.0</td>\n",
              "      <td>1.0</td>\n",
              "      <td>52.0</td>\n",
              "      <td>NaN</td>\n",
              "      <td>NaN</td>\n",
              "      <td>NaN</td>\n",
              "      <td>1</td>\n",
              "      <td>NaN</td>\n",
              "      <td>NaN</td>\n",
              "      <td>not available in demo dataset</td>\n",
              "      <td>NaN</td>\n",
              "      <td>NaN</td>\n",
              "      <td>NaN</td>\n",
              "      <td>NaN</td>\n",
              "      <td>(not set)</td>\n",
              "      <td>NaN</td>\n",
              "      <td>NaN</td>\n",
              "      <td>(not provided)</td>\n",
              "      <td>organic</td>\n",
              "      <td>NaN</td>\n",
              "      <td>google</td>\n",
              "      <td>1508190552</td>\n",
              "      <td>1</td>\n",
              "      <td>1508190552</td>\n",
              "      <td>0</td>\n",
              "    </tr>\n",
              "    <tr>\n",
              "      <th>4</th>\n",
              "      <td>Referral</td>\n",
              "      <td>20171016</td>\n",
              "      <td>Chrome</td>\n",
              "      <td>desktop</td>\n",
              "      <td>False</td>\n",
              "      <td>Macintosh</td>\n",
              "      <td>166277907528479249</td>\n",
              "      <td>San Francisco</td>\n",
              "      <td>not available in demo dataset</td>\n",
              "      <td>Americas</td>\n",
              "      <td>United States</td>\n",
              "      <td>not available in demo dataset</td>\n",
              "      <td>not available in demo dataset</td>\n",
              "      <td>San Francisco-Oakland-San Jose CA</td>\n",
              "      <td>unknown.unknown</td>\n",
              "      <td>not available in demo dataset</td>\n",
              "      <td>California</td>\n",
              "      <td>Northern America</td>\n",
              "      <td>Not Socially Engaged</td>\n",
              "      <td>NaN</td>\n",
              "      <td>2</td>\n",
              "      <td>1.0</td>\n",
              "      <td>2.0</td>\n",
              "      <td>2.0</td>\n",
              "      <td>12.0</td>\n",
              "      <td>NaN</td>\n",
              "      <td>NaN</td>\n",
              "      <td>NaN</td>\n",
              "      <td>1</td>\n",
              "      <td>NaN</td>\n",
              "      <td>NaN</td>\n",
              "      <td>not available in demo dataset</td>\n",
              "      <td>NaN</td>\n",
              "      <td>NaN</td>\n",
              "      <td>NaN</td>\n",
              "      <td>NaN</td>\n",
              "      <td>(not set)</td>\n",
              "      <td>NaN</td>\n",
              "      <td>NaN</td>\n",
              "      <td>NaN</td>\n",
              "      <td>(none)</td>\n",
              "      <td>/offer/2145</td>\n",
              "      <td>(direct)</td>\n",
              "      <td>1508196701</td>\n",
              "      <td>1</td>\n",
              "      <td>1508196701</td>\n",
              "      <td>1</td>\n",
              "    </tr>\n",
              "  </tbody>\n",
              "</table>\n",
              "</div>"
            ],
            "text/plain": [
              "  channelGrouping      date  ... visitStartTime new.returningCustomer\n",
              "0        Referral  20171016  ...     1508176307                     1\n",
              "1          Direct  20171016  ...     1508201613                     0\n",
              "2  Organic Search  20171016  ...     1508169851                     0\n",
              "3  Organic Search  20171016  ...     1508190552                     0\n",
              "4        Referral  20171016  ...     1508196701                     1\n",
              "\n",
              "[5 rows x 47 columns]"
            ]
          },
          "metadata": {
            "tags": []
          },
          "execution_count": 32
        }
      ]
    },
    {
      "cell_type": "code",
      "metadata": {
        "id": "sqrUACAylVKq",
        "colab_type": "code",
        "colab": {
          "base_uri": "https://localhost:8080/",
          "height": 34
        },
        "outputId": "385f17ea-2aa1-4b50-a0c6-daecb58f9eb4"
      },
      "source": [
        "df.shape"
      ],
      "execution_count": 34,
      "outputs": [
        {
          "output_type": "execute_result",
          "data": {
            "text/plain": [
              "(1537503, 47)"
            ]
          },
          "metadata": {
            "tags": []
          },
          "execution_count": 34
        }
      ]
    },
    {
      "cell_type": "code",
      "metadata": {
        "colab_type": "code",
        "id": "O1VzBDTHw5_o",
        "colab": {}
      },
      "source": [
        "df['fullVisitorId'] = df['fullVisitorId'].astype(float)"
      ],
      "execution_count": 0,
      "outputs": []
    },
    {
      "cell_type": "code",
      "metadata": {
        "colab_type": "code",
        "id": "xUVR8G0SJGH3",
        "outputId": "f4211a42-cdbd-4152-9633-13fa1cc48bd8",
        "colab": {
          "base_uri": "https://localhost:8080/",
          "height": 52
        }
      },
      "source": [
        "df['totals.bounces'].value_counts()"
      ],
      "execution_count": 23,
      "outputs": [
        {
          "output_type": "execute_result",
          "data": {
            "text/plain": [
              "1.0    784213\n",
              "Name: totals.bounces, dtype: int64"
            ]
          },
          "metadata": {
            "tags": []
          },
          "execution_count": 23
        }
      ]
    },
    {
      "cell_type": "code",
      "metadata": {
        "colab_type": "code",
        "id": "kC3LvKPSOc4r",
        "outputId": "3e490f27-2d76-455f-c4e9-e46ef8d050ce",
        "colab": {
          "base_uri": "https://localhost:8080/",
          "height": 194
        }
      },
      "source": [
        "# na_columns = pd.DataFrame(index=df.columns, columns=['NA count'])\n",
        "\n",
        "# for column in df.columns:\n",
        "#   # print(f\"{column}: \\t\\t\\t\\t\\t\\t {df[column].isna().sum(axis=0)}\")\n",
        "#   na_columns.loc[column] = df[column].isna().sum(axis=0)\n",
        "\n",
        "# na_columns[na_columns['NA count'] > 0]\n",
        "na_columns = df.isna().sum(axis=0)\n",
        "na_columns[na_columns>0]"
      ],
      "execution_count": 31,
      "outputs": [
        {
          "output_type": "execute_result",
          "data": {
            "text/plain": [
              "totals.bounces                                   753290\n",
              "totals.pageviews                                    221\n",
              "trafficSource.adContent                         1479250\n",
              "trafficSource.adwordsClickInfo.adNetworkType    1469786\n",
              "trafficSource.adwordsClickInfo.gclId            1469647\n",
              "trafficSource.adwordsClickInfo.slot             1469786\n",
              "trafficSource.isTrueDirect                      1056703\n",
              "trafficSource.keyword                            947273\n",
              "trafficSource.referralPath                      1027971\n",
              "dtype: int64"
            ]
          },
          "metadata": {
            "tags": []
          },
          "execution_count": 31
        }
      ]
    },
    {
      "cell_type": "code",
      "metadata": {
        "colab_type": "code",
        "id": "Hp_XcoONKRI0",
        "outputId": "b50952ae-cf90-4405-9c6d-127c91af32d8",
        "colab": {
          "base_uri": "https://localhost:8080/",
          "height": 34
        }
      },
      "source": [
        "(752034)/len(df)"
      ],
      "execution_count": 25,
      "outputs": [
        {
          "output_type": "execute_result",
          "data": {
            "text/plain": [
              "0.4891268504841942"
            ]
          },
          "metadata": {
            "tags": []
          },
          "execution_count": 25
        }
      ]
    },
    {
      "cell_type": "code",
      "metadata": {
        "colab_type": "code",
        "id": "9lY0iN6uKc4m",
        "colab": {}
      },
      "source": [
        "# Columns to be dropped\n",
        "# 100                   100                    100                     77                  100                           99.99                         \n",
        "# 'geoNetwork.cityId', 'geoNetwork.latitude', 'geoNetwork.longitude', 'geoNetwork.metro', 'geoNetwork.networkLocation', 'trafficSource.campaignCode', 'trafficSource.adwordsClickInfo.isVideoAd'"
      ],
      "execution_count": 0,
      "outputs": []
    },
    {
      "cell_type": "code",
      "metadata": {
        "colab_type": "code",
        "id": "WnNiYSo4NNRe",
        "colab": {}
      },
      "source": [
        "# Set the na values of following columns\n",
        "# 'geoNetwork.networkDomain': '(not set)' => 'unknown.unknown'\n",
        "# 'totals.bounces': NA => -1\n",
        "# 'trafficSource.referralPath' => 'UNK'\n",
        "# 'totals.transactions' => 0\n",
        "# 'totals.transactionRevenue' => 0\n",
        "# 'totals.totalTransactionRevenue' => 0\n",
        "# 'trafficSource.isTrueDirect' => False\n",
        "# 'trafficSource.keyword' => 'UNK'\n",
        "# 'trafficSource.adwordsClickInfo.slot' => 'UNK'\n",
        "# 'trafficSource.adwordsClickInfo.page' => 0\n",
        "# 'trafficSource.adwordsClickInfo.gclId' => 'UNK'\n",
        "# 'trafficSource.adwordsClickInfo.adNetworkType' => 'UNK'\n",
        "# 'trafficSource.adContent' => 'UNK'\n",
        "# 'totals.timeOnSite' => 0 or -1\n",
        "# 'totals.sessionQualityDim' => 0\n",
        "# 'totals.pageviews' => 3.697734703196941\n",
        "# 'totals.newVisits' => 0"
      ],
      "execution_count": 0,
      "outputs": []
    },
    {
      "cell_type": "code",
      "metadata": {
        "colab_type": "code",
        "id": "kcWUh2GGaBgy",
        "colab": {}
      },
      "source": [
        "df = df.drop(columns=['geoNetwork.cityId', 'geoNetwork.latitude', 'geoNetwork.longitude', 'geoNetwork.metro', 'geoNetwork.networkLocation', 'trafficSource.campaignCode', 'trafficSource.adwordsClickInfo.isVideoAd'])"
      ],
      "execution_count": 0,
      "outputs": []
    },
    {
      "cell_type": "code",
      "metadata": {
        "colab_type": "code",
        "id": "Kcrl6HKFdYg8",
        "colab": {}
      },
      "source": [
        "df['geoNetwork.networkDomain'] = df['geoNetwork.networkDomain'].map(lambda value: 'unknown.unknown' if value == '(not set)' else value)"
      ],
      "execution_count": 0,
      "outputs": []
    },
    {
      "cell_type": "code",
      "metadata": {
        "colab_type": "code",
        "id": "Gjo3junDe60v",
        "colab": {}
      },
      "source": [
        "fill_0_columns = ['totals.transactions', 'totals.transactionRevenue', 'totals.totalTransactionRevenue', 'trafficSource.adwordsClickInfo.page', 'totals.timeOnSite', 'totals.sessionQualityDim', 'totals.newVisits']\n",
        "df[fill_0_columns] = df[fill_0_columns].fillna(0)"
      ],
      "execution_count": 0,
      "outputs": []
    },
    {
      "cell_type": "code",
      "metadata": {
        "colab_type": "code",
        "id": "sSz9Jc7Ff-5H",
        "colab": {}
      },
      "source": [
        "df = df.fillna({\n",
        "    'totals.bounces': -1, \n",
        "    'trafficSource.referralPath': 'UNK', \n",
        "    'trafficSource.isTrueDirect': False, \n",
        "    'trafficSource.keyword': 'UNK', \n",
        "    'trafficSource.adwordsClickInfo.slot': 'UNK', \n",
        "    'trafficSource.adwordsClickInfo.gclId': 'UNK', \n",
        "    'trafficSource.adwordsClickInfo.adNetworkType': 'UNK', \n",
        "    'trafficSource.adContent': 'UNK',\n",
        "})"
      ],
      "execution_count": 0,
      "outputs": []
    },
    {
      "cell_type": "code",
      "metadata": {
        "colab_type": "code",
        "id": "h7NqShIZh5UB",
        "colab": {}
      },
      "source": [
        "df['totals.pageviews'] = df[['totals.pageviews']].fillna(df['totals.pageviews'].mean())"
      ],
      "execution_count": 0,
      "outputs": []
    },
    {
      "cell_type": "code",
      "metadata": {
        "colab_type": "code",
        "id": "28lpnglXiRJi",
        "outputId": "0a6ac669-eb8d-45db-bf6b-30cf6e341fb9",
        "colab": {
          "base_uri": "https://localhost:8080/",
          "height": 558
        }
      },
      "source": [
        "df[df['totals.pageviews'] == 3.697734703196941]"
      ],
      "execution_count": 0,
      "outputs": [
        {
          "output_type": "execute_result",
          "data": {
            "text/html": [
              "<div>\n",
              "<style scoped>\n",
              "    .dataframe tbody tr th:only-of-type {\n",
              "        vertical-align: middle;\n",
              "    }\n",
              "\n",
              "    .dataframe tbody tr th {\n",
              "        vertical-align: top;\n",
              "    }\n",
              "\n",
              "    .dataframe thead th {\n",
              "        text-align: right;\n",
              "    }\n",
              "</style>\n",
              "<table border=\"1\" class=\"dataframe\">\n",
              "  <thead>\n",
              "    <tr style=\"text-align: right;\">\n",
              "      <th></th>\n",
              "      <th>channelGrouping</th>\n",
              "      <th>date</th>\n",
              "      <th>device.browser</th>\n",
              "      <th>device.deviceCategory</th>\n",
              "      <th>device.isMobile</th>\n",
              "      <th>device.operatingSystem</th>\n",
              "      <th>fullVisitorId</th>\n",
              "      <th>geoNetwork.city</th>\n",
              "      <th>geoNetwork.continent</th>\n",
              "      <th>geoNetwork.country</th>\n",
              "      <th>...</th>\n",
              "      <th>trafficSource.campaign</th>\n",
              "      <th>trafficSource.isTrueDirect</th>\n",
              "      <th>trafficSource.keyword</th>\n",
              "      <th>trafficSource.medium</th>\n",
              "      <th>trafficSource.referralPath</th>\n",
              "      <th>trafficSource.source</th>\n",
              "      <th>visitId</th>\n",
              "      <th>visitNumber</th>\n",
              "      <th>visitStartTime</th>\n",
              "      <th>new.returningCustomer</th>\n",
              "    </tr>\n",
              "  </thead>\n",
              "  <tbody>\n",
              "    <tr>\n",
              "      <td>7059</td>\n",
              "      <td>Organic Search</td>\n",
              "      <td>20171130</td>\n",
              "      <td>Chrome</td>\n",
              "      <td>desktop</td>\n",
              "      <td>False</td>\n",
              "      <td>Windows</td>\n",
              "      <td>8.515300e+18</td>\n",
              "      <td>Melbourne</td>\n",
              "      <td>Oceania</td>\n",
              "      <td>Australia</td>\n",
              "      <td>...</td>\n",
              "      <td>(not set)</td>\n",
              "      <td>True</td>\n",
              "      <td>(not provided)</td>\n",
              "      <td>organic</td>\n",
              "      <td>UNK</td>\n",
              "      <td>google</td>\n",
              "      <td>1512040459</td>\n",
              "      <td>2</td>\n",
              "      <td>1512040459</td>\n",
              "      <td>1</td>\n",
              "    </tr>\n",
              "    <tr>\n",
              "      <td>28040</td>\n",
              "      <td>Social</td>\n",
              "      <td>20171111</td>\n",
              "      <td>Opera</td>\n",
              "      <td>desktop</td>\n",
              "      <td>False</td>\n",
              "      <td>Windows</td>\n",
              "      <td>6.043600e+18</td>\n",
              "      <td>not available in demo dataset</td>\n",
              "      <td>Europe</td>\n",
              "      <td>Russia</td>\n",
              "      <td>...</td>\n",
              "      <td>(not set)</td>\n",
              "      <td>False</td>\n",
              "      <td>UNK</td>\n",
              "      <td>referral</td>\n",
              "      <td>/intl/ru/yt/about/</td>\n",
              "      <td>youtube.com</td>\n",
              "      <td>1510432104</td>\n",
              "      <td>1</td>\n",
              "      <td>1510432104</td>\n",
              "      <td>0</td>\n",
              "    </tr>\n",
              "    <tr>\n",
              "      <td>28372</td>\n",
              "      <td>Referral</td>\n",
              "      <td>20171111</td>\n",
              "      <td>Chrome</td>\n",
              "      <td>desktop</td>\n",
              "      <td>False</td>\n",
              "      <td>Windows</td>\n",
              "      <td>5.558472e+18</td>\n",
              "      <td>not available in demo dataset</td>\n",
              "      <td>Europe</td>\n",
              "      <td>Italy</td>\n",
              "      <td>...</td>\n",
              "      <td>(not set)</td>\n",
              "      <td>True</td>\n",
              "      <td>UNK</td>\n",
              "      <td>referral</td>\n",
              "      <td>/</td>\n",
              "      <td>it.search.yahoo.com</td>\n",
              "      <td>1510426542</td>\n",
              "      <td>2</td>\n",
              "      <td>1510426542</td>\n",
              "      <td>1</td>\n",
              "    </tr>\n",
              "    <tr>\n",
              "      <td>36174</td>\n",
              "      <td>Social</td>\n",
              "      <td>20161112</td>\n",
              "      <td>Chrome</td>\n",
              "      <td>desktop</td>\n",
              "      <td>False</td>\n",
              "      <td>Windows</td>\n",
              "      <td>1.854441e+18</td>\n",
              "      <td>not available in demo dataset</td>\n",
              "      <td>Americas</td>\n",
              "      <td>Argentina</td>\n",
              "      <td>...</td>\n",
              "      <td>(not set)</td>\n",
              "      <td>True</td>\n",
              "      <td>UNK</td>\n",
              "      <td>referral</td>\n",
              "      <td>/yt/about/es/</td>\n",
              "      <td>youtube.com</td>\n",
              "      <td>1478952119</td>\n",
              "      <td>7</td>\n",
              "      <td>1478952119</td>\n",
              "      <td>1</td>\n",
              "    </tr>\n",
              "    <tr>\n",
              "      <td>36179</td>\n",
              "      <td>Social</td>\n",
              "      <td>20161112</td>\n",
              "      <td>Chrome</td>\n",
              "      <td>desktop</td>\n",
              "      <td>False</td>\n",
              "      <td>Windows</td>\n",
              "      <td>1.854441e+18</td>\n",
              "      <td>not available in demo dataset</td>\n",
              "      <td>Americas</td>\n",
              "      <td>Argentina</td>\n",
              "      <td>...</td>\n",
              "      <td>(not set)</td>\n",
              "      <td>True</td>\n",
              "      <td>UNK</td>\n",
              "      <td>referral</td>\n",
              "      <td>/yt/about/es/</td>\n",
              "      <td>youtube.com</td>\n",
              "      <td>1478940943</td>\n",
              "      <td>4</td>\n",
              "      <td>1478940943</td>\n",
              "      <td>1</td>\n",
              "    </tr>\n",
              "    <tr>\n",
              "      <td>...</td>\n",
              "      <td>...</td>\n",
              "      <td>...</td>\n",
              "      <td>...</td>\n",
              "      <td>...</td>\n",
              "      <td>...</td>\n",
              "      <td>...</td>\n",
              "      <td>...</td>\n",
              "      <td>...</td>\n",
              "      <td>...</td>\n",
              "      <td>...</td>\n",
              "      <td>...</td>\n",
              "      <td>...</td>\n",
              "      <td>...</td>\n",
              "      <td>...</td>\n",
              "      <td>...</td>\n",
              "      <td>...</td>\n",
              "      <td>...</td>\n",
              "      <td>...</td>\n",
              "      <td>...</td>\n",
              "      <td>...</td>\n",
              "      <td>...</td>\n",
              "    </tr>\n",
              "    <tr>\n",
              "      <td>1500466</td>\n",
              "      <td>Referral</td>\n",
              "      <td>20161019</td>\n",
              "      <td>Chrome</td>\n",
              "      <td>desktop</td>\n",
              "      <td>False</td>\n",
              "      <td>Macintosh</td>\n",
              "      <td>5.617770e+18</td>\n",
              "      <td>Mountain View</td>\n",
              "      <td>Americas</td>\n",
              "      <td>United States</td>\n",
              "      <td>...</td>\n",
              "      <td>(not set)</td>\n",
              "      <td>True</td>\n",
              "      <td>UNK</td>\n",
              "      <td>(none)</td>\n",
              "      <td>/</td>\n",
              "      <td>(direct)</td>\n",
              "      <td>1476907903</td>\n",
              "      <td>4</td>\n",
              "      <td>1476907903</td>\n",
              "      <td>1</td>\n",
              "    </tr>\n",
              "    <tr>\n",
              "      <td>1501211</td>\n",
              "      <td>Paid Search</td>\n",
              "      <td>20170319</td>\n",
              "      <td>Firefox</td>\n",
              "      <td>desktop</td>\n",
              "      <td>False</td>\n",
              "      <td>Windows</td>\n",
              "      <td>7.417511e+18</td>\n",
              "      <td>not available in demo dataset</td>\n",
              "      <td>Asia</td>\n",
              "      <td>Nepal</td>\n",
              "      <td>...</td>\n",
              "      <td>(not set)</td>\n",
              "      <td>True</td>\n",
              "      <td>(Remarketing/Content targeting)</td>\n",
              "      <td>cpc</td>\n",
              "      <td>UNK</td>\n",
              "      <td>google</td>\n",
              "      <td>1489918339</td>\n",
              "      <td>3</td>\n",
              "      <td>1489918339</td>\n",
              "      <td>1</td>\n",
              "    </tr>\n",
              "    <tr>\n",
              "      <td>1505408</td>\n",
              "      <td>Organic Search</td>\n",
              "      <td>20160907</td>\n",
              "      <td>Chrome</td>\n",
              "      <td>desktop</td>\n",
              "      <td>False</td>\n",
              "      <td>Windows</td>\n",
              "      <td>5.784901e+18</td>\n",
              "      <td>Hong Kong</td>\n",
              "      <td>Asia</td>\n",
              "      <td>Hong Kong</td>\n",
              "      <td>...</td>\n",
              "      <td>(not set)</td>\n",
              "      <td>True</td>\n",
              "      <td>(not provided)</td>\n",
              "      <td>organic</td>\n",
              "      <td>UNK</td>\n",
              "      <td>google</td>\n",
              "      <td>1473244529</td>\n",
              "      <td>4</td>\n",
              "      <td>1473244529</td>\n",
              "      <td>1</td>\n",
              "    </tr>\n",
              "    <tr>\n",
              "      <td>1517003</td>\n",
              "      <td>Social</td>\n",
              "      <td>20180216</td>\n",
              "      <td>Mozilla Compatible Agent</td>\n",
              "      <td>desktop</td>\n",
              "      <td>False</td>\n",
              "      <td>(not set)</td>\n",
              "      <td>9.515185e+18</td>\n",
              "      <td>not available in demo dataset</td>\n",
              "      <td>Europe</td>\n",
              "      <td>Austria</td>\n",
              "      <td>...</td>\n",
              "      <td>(not set)</td>\n",
              "      <td>True</td>\n",
              "      <td>UNK</td>\n",
              "      <td>referral</td>\n",
              "      <td>/intl/de/yt/advertise/</td>\n",
              "      <td>youtube.com</td>\n",
              "      <td>1518805563</td>\n",
              "      <td>3</td>\n",
              "      <td>1518805563</td>\n",
              "      <td>1</td>\n",
              "    </tr>\n",
              "    <tr>\n",
              "      <td>1531147</td>\n",
              "      <td>Referral</td>\n",
              "      <td>20180209</td>\n",
              "      <td>Firefox</td>\n",
              "      <td>desktop</td>\n",
              "      <td>False</td>\n",
              "      <td>Windows</td>\n",
              "      <td>5.968998e+18</td>\n",
              "      <td>not available in demo dataset</td>\n",
              "      <td>Europe</td>\n",
              "      <td>France</td>\n",
              "      <td>...</td>\n",
              "      <td>(not set)</td>\n",
              "      <td>True</td>\n",
              "      <td>UNK</td>\n",
              "      <td>referral</td>\n",
              "      <td>/document/d/1Fx-rvpeUo48VjgIECekNNwyw8ULrMXrXk...</td>\n",
              "      <td>docs.google.com</td>\n",
              "      <td>1518204996</td>\n",
              "      <td>4</td>\n",
              "      <td>1518204996</td>\n",
              "      <td>1</td>\n",
              "    </tr>\n",
              "  </tbody>\n",
              "</table>\n",
              "<p>221 rows × 40 columns</p>\n",
              "</div>"
            ],
            "text/plain": [
              "        channelGrouping      date            device.browser  \\\n",
              "7059     Organic Search  20171130                    Chrome   \n",
              "28040            Social  20171111                     Opera   \n",
              "28372          Referral  20171111                    Chrome   \n",
              "36174            Social  20161112                    Chrome   \n",
              "36179            Social  20161112                    Chrome   \n",
              "...                 ...       ...                       ...   \n",
              "1500466        Referral  20161019                    Chrome   \n",
              "1501211     Paid Search  20170319                   Firefox   \n",
              "1505408  Organic Search  20160907                    Chrome   \n",
              "1517003          Social  20180216  Mozilla Compatible Agent   \n",
              "1531147        Referral  20180209                   Firefox   \n",
              "\n",
              "        device.deviceCategory  device.isMobile device.operatingSystem  \\\n",
              "7059                  desktop            False                Windows   \n",
              "28040                 desktop            False                Windows   \n",
              "28372                 desktop            False                Windows   \n",
              "36174                 desktop            False                Windows   \n",
              "36179                 desktop            False                Windows   \n",
              "...                       ...              ...                    ...   \n",
              "1500466               desktop            False              Macintosh   \n",
              "1501211               desktop            False                Windows   \n",
              "1505408               desktop            False                Windows   \n",
              "1517003               desktop            False              (not set)   \n",
              "1531147               desktop            False                Windows   \n",
              "\n",
              "         fullVisitorId                geoNetwork.city geoNetwork.continent  \\\n",
              "7059      8.515300e+18                      Melbourne              Oceania   \n",
              "28040     6.043600e+18  not available in demo dataset               Europe   \n",
              "28372     5.558472e+18  not available in demo dataset               Europe   \n",
              "36174     1.854441e+18  not available in demo dataset             Americas   \n",
              "36179     1.854441e+18  not available in demo dataset             Americas   \n",
              "...                ...                            ...                  ...   \n",
              "1500466   5.617770e+18                  Mountain View             Americas   \n",
              "1501211   7.417511e+18  not available in demo dataset                 Asia   \n",
              "1505408   5.784901e+18                      Hong Kong                 Asia   \n",
              "1517003   9.515185e+18  not available in demo dataset               Europe   \n",
              "1531147   5.968998e+18  not available in demo dataset               Europe   \n",
              "\n",
              "        geoNetwork.country  ... trafficSource.campaign  \\\n",
              "7059             Australia  ...              (not set)   \n",
              "28040               Russia  ...              (not set)   \n",
              "28372                Italy  ...              (not set)   \n",
              "36174            Argentina  ...              (not set)   \n",
              "36179            Argentina  ...              (not set)   \n",
              "...                    ...  ...                    ...   \n",
              "1500466      United States  ...              (not set)   \n",
              "1501211              Nepal  ...              (not set)   \n",
              "1505408          Hong Kong  ...              (not set)   \n",
              "1517003            Austria  ...              (not set)   \n",
              "1531147             France  ...              (not set)   \n",
              "\n",
              "        trafficSource.isTrueDirect            trafficSource.keyword  \\\n",
              "7059                          True                   (not provided)   \n",
              "28040                        False                              UNK   \n",
              "28372                         True                              UNK   \n",
              "36174                         True                              UNK   \n",
              "36179                         True                              UNK   \n",
              "...                            ...                              ...   \n",
              "1500466                       True                              UNK   \n",
              "1501211                       True  (Remarketing/Content targeting)   \n",
              "1505408                       True                   (not provided)   \n",
              "1517003                       True                              UNK   \n",
              "1531147                       True                              UNK   \n",
              "\n",
              "        trafficSource.medium  \\\n",
              "7059                 organic   \n",
              "28040               referral   \n",
              "28372               referral   \n",
              "36174               referral   \n",
              "36179               referral   \n",
              "...                      ...   \n",
              "1500466               (none)   \n",
              "1501211                  cpc   \n",
              "1505408              organic   \n",
              "1517003             referral   \n",
              "1531147             referral   \n",
              "\n",
              "                                trafficSource.referralPath  \\\n",
              "7059                                                   UNK   \n",
              "28040                                   /intl/ru/yt/about/   \n",
              "28372                                                    /   \n",
              "36174                                        /yt/about/es/   \n",
              "36179                                        /yt/about/es/   \n",
              "...                                                    ...   \n",
              "1500466                                                  /   \n",
              "1501211                                                UNK   \n",
              "1505408                                                UNK   \n",
              "1517003                             /intl/de/yt/advertise/   \n",
              "1531147  /document/d/1Fx-rvpeUo48VjgIECekNNwyw8ULrMXrXk...   \n",
              "\n",
              "         trafficSource.source     visitId  visitNumber  visitStartTime  \\\n",
              "7059                   google  1512040459            2      1512040459   \n",
              "28040             youtube.com  1510432104            1      1510432104   \n",
              "28372     it.search.yahoo.com  1510426542            2      1510426542   \n",
              "36174             youtube.com  1478952119            7      1478952119   \n",
              "36179             youtube.com  1478940943            4      1478940943   \n",
              "...                       ...         ...          ...             ...   \n",
              "1500466              (direct)  1476907903            4      1476907903   \n",
              "1501211                google  1489918339            3      1489918339   \n",
              "1505408                google  1473244529            4      1473244529   \n",
              "1517003           youtube.com  1518805563            3      1518805563   \n",
              "1531147       docs.google.com  1518204996            4      1518204996   \n",
              "\n",
              "         new.returningCustomer  \n",
              "7059                         1  \n",
              "28040                        0  \n",
              "28372                        1  \n",
              "36174                        1  \n",
              "36179                        1  \n",
              "...                        ...  \n",
              "1500466                      1  \n",
              "1501211                      1  \n",
              "1505408                      1  \n",
              "1517003                      1  \n",
              "1531147                      1  \n",
              "\n",
              "[221 rows x 40 columns]"
            ]
          },
          "metadata": {
            "tags": []
          },
          "execution_count": 14
        }
      ]
    },
    {
      "cell_type": "code",
      "metadata": {
        "colab_type": "code",
        "id": "FynyDQxsi3Uz",
        "colab": {}
      },
      "source": [
        "import numpy as np\n",
        "from sklearn.ensemble import ExtraTreesClassifier\n",
        "from sklearn import preprocessing"
      ],
      "execution_count": 0,
      "outputs": []
    },
    {
      "cell_type": "code",
      "metadata": {
        "colab_type": "code",
        "id": "Ee50nzRRkZ_j",
        "colab": {}
      },
      "source": [
        "forest = ExtraTreesClassifier(n_estimators=250,\n",
        "                              random_state=0)"
      ],
      "execution_count": 0,
      "outputs": []
    },
    {
      "cell_type": "code",
      "metadata": {
        "colab_type": "code",
        "id": "-oKX2QECkgKT",
        "colab": {}
      },
      "source": [
        "y = df['new.returningCustomer']\n",
        "X = df.drop(columns=['new.returningCustomer'])"
      ],
      "execution_count": 0,
      "outputs": []
    },
    {
      "cell_type": "code",
      "metadata": {
        "colab_type": "code",
        "id": "LUU84JA7lB4D",
        "outputId": "e4da8206-6ee6-4bc7-8107-a82a54425df7",
        "colab": {
          "base_uri": "https://localhost:8080/",
          "height": 697
        }
      },
      "source": [
        "X.dtypes"
      ],
      "execution_count": 0,
      "outputs": [
        {
          "output_type": "execute_result",
          "data": {
            "text/plain": [
              "channelGrouping                                       object\n",
              "date                                                   int64\n",
              "device.browser                                        object\n",
              "device.deviceCategory                                 object\n",
              "device.isMobile                                         bool\n",
              "device.operatingSystem                                object\n",
              "fullVisitorId                                        float64\n",
              "geoNetwork.city                                       object\n",
              "geoNetwork.continent                                  object\n",
              "geoNetwork.country                                    object\n",
              "geoNetwork.networkDomain                              object\n",
              "geoNetwork.region                                     object\n",
              "geoNetwork.subContinent                               object\n",
              "socialEngagementType                                  object\n",
              "totals.bounces                                       float64\n",
              "totals.hits                                            int64\n",
              "totals.newVisits                                     float64\n",
              "totals.pageviews                                     float64\n",
              "totals.sessionQualityDim                             float64\n",
              "totals.timeOnSite                                    float64\n",
              "totals.totalTransactionRevenue                       float64\n",
              "totals.transactionRevenue                            float64\n",
              "totals.transactions                                  float64\n",
              "totals.visits                                          int64\n",
              "trafficSource.adContent                               object\n",
              "trafficSource.adwordsClickInfo.adNetworkType          object\n",
              "trafficSource.adwordsClickInfo.criteriaParameters     object\n",
              "trafficSource.adwordsClickInfo.gclId                  object\n",
              "trafficSource.adwordsClickInfo.page                  float64\n",
              "trafficSource.adwordsClickInfo.slot                   object\n",
              "trafficSource.campaign                                object\n",
              "trafficSource.isTrueDirect                              bool\n",
              "trafficSource.keyword                                 object\n",
              "trafficSource.medium                                  object\n",
              "trafficSource.referralPath                            object\n",
              "trafficSource.source                                  object\n",
              "visitId                                                int64\n",
              "visitNumber                                            int64\n",
              "visitStartTime                                         int64\n",
              "dtype: object"
            ]
          },
          "metadata": {
            "tags": []
          },
          "execution_count": 18
        }
      ]
    },
    {
      "cell_type": "code",
      "metadata": {
        "colab_type": "code",
        "id": "TI7398vElj-V",
        "colab": {}
      },
      "source": [
        "lb = preprocessing.LabelBinarizer()\n",
        "X['trafficSource.isTrueDirect'] = lb.fit_transform(X['trafficSource.isTrueDirect'])\n",
        "X['device.isMobile'] = lb.transform(X['device.isMobile'])"
      ],
      "execution_count": 0,
      "outputs": []
    },
    {
      "cell_type": "code",
      "metadata": {
        "colab_type": "code",
        "id": "OO2ojWFJn9bm",
        "outputId": "e5d02b79-eec9-41b0-f945-0c9045914b56",
        "colab": {
          "base_uri": "https://localhost:8080/",
          "height": 374
        }
      },
      "source": [
        "X['visitStartTime'].dtype == np.int64\n",
        "\n",
        "ignoreColumns = {''}\n",
        "for column in X.columns:\n",
        "    if (X[column].dtype != np.int64 and X[column].dtype != np.float64):\n",
        "        print(f\"Converting column: {column}\")\n",
        "\n",
        "        le = preprocessing.LabelEncoder()\n",
        "        X[column] = le.fit_transform(X[column])\n",
        "        del le"
      ],
      "execution_count": 0,
      "outputs": [
        {
          "output_type": "stream",
          "text": [
            "Converting column: channelGrouping\n",
            "Converting column: device.browser\n",
            "Converting column: device.deviceCategory\n",
            "Converting column: device.operatingSystem\n",
            "Converting column: geoNetwork.city\n",
            "Converting column: geoNetwork.continent\n",
            "Converting column: geoNetwork.country\n",
            "Converting column: geoNetwork.networkDomain\n",
            "Converting column: geoNetwork.region\n",
            "Converting column: geoNetwork.subContinent\n",
            "Converting column: socialEngagementType\n",
            "Converting column: trafficSource.adContent\n",
            "Converting column: trafficSource.adwordsClickInfo.adNetworkType\n",
            "Converting column: trafficSource.adwordsClickInfo.criteriaParameters\n",
            "Converting column: trafficSource.adwordsClickInfo.gclId\n",
            "Converting column: trafficSource.adwordsClickInfo.slot\n",
            "Converting column: trafficSource.campaign\n",
            "Converting column: trafficSource.keyword\n",
            "Converting column: trafficSource.medium\n",
            "Converting column: trafficSource.referralPath\n",
            "Converting column: trafficSource.source\n"
          ],
          "name": "stdout"
        }
      ]
    },
    {
      "cell_type": "code",
      "metadata": {
        "colab_type": "code",
        "id": "vW1DlcQiuIC2",
        "outputId": "e6b4e93f-ea79-44f0-8b08-480e02effbaa",
        "colab": {
          "base_uri": "https://localhost:8080/",
          "height": 697
        }
      },
      "source": [
        "X.dtypes"
      ],
      "execution_count": 0,
      "outputs": [
        {
          "output_type": "execute_result",
          "data": {
            "text/plain": [
              "channelGrouping                                        int64\n",
              "date                                                   int64\n",
              "device.browser                                         int64\n",
              "device.deviceCategory                                  int64\n",
              "device.isMobile                                        int64\n",
              "device.operatingSystem                                 int64\n",
              "fullVisitorId                                        float64\n",
              "geoNetwork.city                                        int64\n",
              "geoNetwork.continent                                   int64\n",
              "geoNetwork.country                                     int64\n",
              "geoNetwork.networkDomain                               int64\n",
              "geoNetwork.region                                      int64\n",
              "geoNetwork.subContinent                                int64\n",
              "socialEngagementType                                   int64\n",
              "totals.bounces                                       float64\n",
              "totals.hits                                            int64\n",
              "totals.newVisits                                     float64\n",
              "totals.pageviews                                     float64\n",
              "totals.sessionQualityDim                             float64\n",
              "totals.timeOnSite                                    float64\n",
              "totals.totalTransactionRevenue                       float64\n",
              "totals.transactionRevenue                            float64\n",
              "totals.transactions                                  float64\n",
              "totals.visits                                          int64\n",
              "trafficSource.adContent                                int64\n",
              "trafficSource.adwordsClickInfo.adNetworkType           int64\n",
              "trafficSource.adwordsClickInfo.criteriaParameters      int64\n",
              "trafficSource.adwordsClickInfo.gclId                   int64\n",
              "trafficSource.adwordsClickInfo.page                  float64\n",
              "trafficSource.adwordsClickInfo.slot                    int64\n",
              "trafficSource.campaign                                 int64\n",
              "trafficSource.isTrueDirect                             int64\n",
              "trafficSource.keyword                                  int64\n",
              "trafficSource.medium                                   int64\n",
              "trafficSource.referralPath                             int64\n",
              "trafficSource.source                                   int64\n",
              "visitId                                                int64\n",
              "visitNumber                                            int64\n",
              "visitStartTime                                         int64\n",
              "dtype: object"
            ]
          },
          "metadata": {
            "tags": []
          },
          "execution_count": 24
        }
      ]
    },
    {
      "cell_type": "code",
      "metadata": {
        "colab_type": "code",
        "id": "sz8peQoUwFp_",
        "colab": {},
        "outputId": "b1970140-d557-43d0-f297-4f5e56527eca"
      },
      "source": [
        "forest.fit(X, y)"
      ],
      "execution_count": 0,
      "outputs": [
        {
          "output_type": "execute_result",
          "data": {
            "text/plain": [
              "ExtraTreesClassifier(bootstrap=False, class_weight=None, criterion='gini',\n",
              "                     max_depth=None, max_features='auto', max_leaf_nodes=None,\n",
              "                     min_impurity_decrease=0.0, min_impurity_split=None,\n",
              "                     min_samples_leaf=1, min_samples_split=2,\n",
              "                     min_weight_fraction_leaf=0.0, n_estimators=250,\n",
              "                     n_jobs=None, oob_score=False, random_state=0, verbose=0,\n",
              "                     warm_start=False)"
            ]
          },
          "metadata": {
            "tags": []
          },
          "execution_count": 25
        }
      ]
    },
    {
      "cell_type": "code",
      "metadata": {
        "colab_type": "code",
        "id": "ijuiB9TfxbEe",
        "colab": {}
      },
      "source": [
        "importances = forest.feature_importances_"
      ],
      "execution_count": 0,
      "outputs": []
    },
    {
      "cell_type": "code",
      "metadata": {
        "id": "rLeQKaBZWQvW",
        "colab_type": "code",
        "colab": {},
        "outputId": "cad1ca9f-3ddd-4c4d-bfca-5d6e4a68af8e"
      },
      "source": [
        "indices = np.argsort(importances)[::-1]\n",
        "indices"
      ],
      "execution_count": 0,
      "outputs": [
        {
          "output_type": "execute_result",
          "data": {
            "text/plain": [
              "array([16, 31,  6, 38, 36,  1, 10, 19, 15, 17,  7, 34, 35, 33,  9, 11,  0,\n",
              "        5, 37,  2, 12, 18,  8, 14, 27, 32,  3,  4, 24, 25, 30, 29, 21, 20,\n",
              "       22, 28, 26, 23, 13])"
            ]
          },
          "metadata": {
            "tags": []
          },
          "execution_count": 28
        }
      ]
    },
    {
      "cell_type": "code",
      "metadata": {
        "id": "GsBgdPWnWQva",
        "colab_type": "code",
        "colab": {},
        "outputId": "50f7b476-cd6c-4811-b0ac-478dda35f012"
      },
      "source": [
        "drop_cols = []\n",
        "\n",
        "for i in range(len(indices)):\n",
        "    print(f\"{X.columns[indices[i]]}:\\t {importances[indices[i]]}\")\n",
        "    if importances[indices[i]] == 0:\n",
        "        drop_cols += [X.columns[indices[i]]]\n",
        "        \n",
        "drop_cols"
      ],
      "execution_count": 0,
      "outputs": [
        {
          "output_type": "stream",
          "text": [
            "totals.newVisits:\t 0.38450705412032943\n",
            "trafficSource.isTrueDirect:\t 0.10948415285880933\n",
            "fullVisitorId:\t 0.05611508722152668\n",
            "visitStartTime:\t 0.05425620218629295\n",
            "visitId:\t 0.05423257723774492\n",
            "date:\t 0.042025202344342046\n",
            "geoNetwork.networkDomain:\t 0.03280811477784845\n",
            "totals.timeOnSite:\t 0.030494312549106686\n",
            "totals.hits:\t 0.02034284081860052\n",
            "totals.pageviews:\t 0.01863699084668348\n",
            "geoNetwork.city:\t 0.017835717865824923\n",
            "trafficSource.referralPath:\t 0.017056887765920382\n",
            "trafficSource.source:\t 0.017019809442060867\n",
            "trafficSource.medium:\t 0.01585853571814412\n",
            "geoNetwork.country:\t 0.014905625729085197\n",
            "geoNetwork.region:\t 0.014701206604422177\n",
            "channelGrouping:\t 0.013901539648458241\n",
            "device.operatingSystem:\t 0.012297899192513916\n",
            "visitNumber:\t 0.011237798898248535\n",
            "device.browser:\t 0.010480352854414125\n",
            "geoNetwork.subContinent:\t 0.009885255470939042\n",
            "totals.sessionQualityDim:\t 0.009145731056784958\n",
            "geoNetwork.continent:\t 0.007346562596670738\n",
            "totals.bounces:\t 0.00538243391437102\n",
            "trafficSource.adwordsClickInfo.gclId:\t 0.003860923137472447\n",
            "trafficSource.keyword:\t 0.0033368125238283923\n",
            "device.deviceCategory:\t 0.003248448710202045\n",
            "device.isMobile:\t 0.002696135810133326\n",
            "trafficSource.adContent:\t 0.001324899259538859\n",
            "trafficSource.adwordsClickInfo.adNetworkType:\t 0.0013071383228422154\n",
            "trafficSource.campaign:\t 0.0010518655812927246\n",
            "trafficSource.adwordsClickInfo.slot:\t 0.0010269503936156724\n",
            "totals.transactionRevenue:\t 0.0006858198547251125\n",
            "totals.totalTransactionRevenue:\t 0.0006839653673004974\n",
            "totals.transactions:\t 0.0005700728852969611\n",
            "trafficSource.adwordsClickInfo.page:\t 0.00024907643460907576\n",
            "trafficSource.adwordsClickInfo.criteriaParameters:\t 0.0\n",
            "totals.visits:\t 0.0\n",
            "socialEngagementType:\t 0.0\n"
          ],
          "name": "stdout"
        },
        {
          "output_type": "execute_result",
          "data": {
            "text/plain": [
              "['trafficSource.adwordsClickInfo.criteriaParameters',\n",
              " 'totals.visits',\n",
              " 'socialEngagementType']"
            ]
          },
          "metadata": {
            "tags": []
          },
          "execution_count": 43
        }
      ]
    },
    {
      "cell_type": "code",
      "metadata": {
        "id": "N9k6hpQYiOXl",
        "colab_type": "code",
        "colab": {}
      },
      "source": [
        "drop_cols = ['trafficSource.adwordsClickInfo.criteriaParameters', 'totals.visits', 'socialEngagementType']\n",
        "\n"
      ],
      "execution_count": 0,
      "outputs": []
    },
    {
      "cell_type": "code",
      "metadata": {
        "id": "XxG_Q2u6WQvg",
        "colab_type": "code",
        "colab": {}
      },
      "source": [
        "df = df.drop(columns=drop_cols)"
      ],
      "execution_count": 0,
      "outputs": []
    },
    {
      "cell_type": "code",
      "metadata": {
        "id": "t2_JPfEuWQvj",
        "colab_type": "code",
        "colab": {},
        "outputId": "1b99cf51-4fa1-4578-f327-d244d7c22773"
      },
      "source": [
        "df.isna().sum(axis=0)"
      ],
      "execution_count": 0,
      "outputs": [
        {
          "output_type": "execute_result",
          "data": {
            "text/plain": [
              "channelGrouping                                      0\n",
              "date                                                 0\n",
              "device.browser                                       0\n",
              "device.deviceCategory                                0\n",
              "device.isMobile                                      0\n",
              "device.operatingSystem                               0\n",
              "fullVisitorId                                        0\n",
              "geoNetwork.city                                      0\n",
              "geoNetwork.continent                                 0\n",
              "geoNetwork.country                                   0\n",
              "geoNetwork.networkDomain                             0\n",
              "geoNetwork.region                                    0\n",
              "geoNetwork.subContinent                              0\n",
              "socialEngagementType                                 0\n",
              "totals.bounces                                       0\n",
              "totals.hits                                          0\n",
              "totals.newVisits                                     0\n",
              "totals.pageviews                                     0\n",
              "totals.sessionQualityDim                             0\n",
              "totals.timeOnSite                                    0\n",
              "totals.totalTransactionRevenue                       0\n",
              "totals.transactionRevenue                            0\n",
              "totals.transactions                                  0\n",
              "totals.visits                                        0\n",
              "trafficSource.adContent                              0\n",
              "trafficSource.adwordsClickInfo.adNetworkType         0\n",
              "trafficSource.adwordsClickInfo.criteriaParameters    0\n",
              "trafficSource.adwordsClickInfo.gclId                 0\n",
              "trafficSource.adwordsClickInfo.page                  0\n",
              "trafficSource.adwordsClickInfo.slot                  0\n",
              "trafficSource.campaign                               0\n",
              "trafficSource.isTrueDirect                           0\n",
              "trafficSource.keyword                                0\n",
              "trafficSource.medium                                 0\n",
              "trafficSource.referralPath                           0\n",
              "trafficSource.source                                 0\n",
              "visitId                                              0\n",
              "visitNumber                                          0\n",
              "visitStartTime                                       0\n",
              "new.returningCustomer                                0\n",
              "dtype: int64"
            ]
          },
          "metadata": {
            "tags": []
          },
          "execution_count": 42
        }
      ]
    },
    {
      "cell_type": "code",
      "metadata": {
        "id": "TPR6rESKWQvm",
        "colab_type": "code",
        "colab": {}
      },
      "source": [
        ""
      ],
      "execution_count": 0,
      "outputs": []
    }
  ]
}