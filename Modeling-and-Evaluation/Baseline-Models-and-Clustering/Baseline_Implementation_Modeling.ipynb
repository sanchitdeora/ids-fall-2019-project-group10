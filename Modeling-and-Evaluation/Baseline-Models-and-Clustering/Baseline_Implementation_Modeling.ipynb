{
  "nbformat": 4,
  "nbformat_minor": 0,
  "metadata": {
    "colab": {
      "name": "Data Science Modeling.ipynb",
      "provenance": [],
      "collapsed_sections": []
    },
    "kernelspec": {
      "name": "python3",
      "display_name": "Python 3"
    },
    "accelerator": "GPU"
  },
  "cells": [
    {
      "cell_type": "code",
      "metadata": {
        "id": "rRR1fN_iPv6e",
        "colab_type": "code",
        "outputId": "be247d68-c869-418f-e626-781d50a7252c",
        "colab": {
          "base_uri": "https://localhost:8080/",
          "height": 126
        }
      },
      "source": [
        "from google.colab import drive\n",
        "drive.mount('/content/drive')"
      ],
      "execution_count": 2,
      "outputs": [
        {
          "output_type": "stream",
          "text": [
            "Go to this URL in a browser: https://accounts.google.com/o/oauth2/auth?client_id=947318989803-6bn6qk8qdgf4n4g3pfee6491hc0brc4i.apps.googleusercontent.com&redirect_uri=urn%3aietf%3awg%3aoauth%3a2.0%3aoob&response_type=code&scope=email%20https%3a%2f%2fwww.googleapis.com%2fauth%2fdocs.test%20https%3a%2f%2fwww.googleapis.com%2fauth%2fdrive%20https%3a%2f%2fwww.googleapis.com%2fauth%2fdrive.photos.readonly%20https%3a%2f%2fwww.googleapis.com%2fauth%2fpeopleapi.readonly\n",
            "\n",
            "Enter your authorization code:\n",
            "··········\n",
            "Mounted at /content/drive\n"
          ],
          "name": "stdout"
        }
      ]
    },
    {
      "cell_type": "code",
      "metadata": {
        "id": "L9HX5htLPaPA",
        "colab_type": "code",
        "outputId": "80b4a8b1-d0db-4683-ba73-1a38ed1c81b4",
        "colab": {
          "base_uri": "https://localhost:8080/",
          "height": 35
        }
      },
      "source": [
        "%cd '/content/drive/My Drive/Data Science/'"
      ],
      "execution_count": 3,
      "outputs": [
        {
          "output_type": "stream",
          "text": [
            "/content/drive/My Drive/Data Science\n"
          ],
          "name": "stdout"
        }
      ]
    },
    {
      "cell_type": "code",
      "metadata": {
        "id": "FF2bu_UrQlnn",
        "colab_type": "code",
        "colab": {}
      },
      "source": [
        "import pandas as pd\n",
        "import numpy as np\n",
        "import matplotlib.pyplot as plt\n",
        "import seaborn as sns\n",
        "from sklearn.cluster import KMeans\n",
        "from sklearn.model_selection import train_test_split\n",
        "from sklearn import preprocessing\n",
        "from sklearn.preprocessing import MinMaxScaler\n",
        "from sklearn import preprocessing\n",
        "import pandas as pd\n",
        "from sklearn.feature_selection import RFE\n",
        "from sklearn.linear_model import LinearRegression\n",
        "from sklearn import metrics\n",
        "from sklearn.ensemble import ExtraTreesClassifier\n",
        "from sklearn.naive_bayes import GaussianNB\n",
        "from sklearn.naive_bayes import MultinomialNB"
      ],
      "execution_count": 0,
      "outputs": []
    },
    {
      "cell_type": "code",
      "metadata": {
        "id": "WmmkzVX9Syiz",
        "colab_type": "code",
        "colab": {}
      },
      "source": [
        "data_file = \"11152019_train_final.csv\"\n",
        "df_train = pd.read_csv(data_file)"
      ],
      "execution_count": 0,
      "outputs": []
    },
    {
      "cell_type": "code",
      "metadata": {
        "id": "Y2R_GmTK188D",
        "colab_type": "code",
        "colab": {}
      },
      "source": [
        "test_file = \"11152019_test_final.csv\"\n",
        "df_test = pd.read_csv(test_file)"
      ],
      "execution_count": 0,
      "outputs": []
    },
    {
      "cell_type": "code",
      "metadata": {
        "id": "ANnzQ8pYQGfT",
        "colab_type": "code",
        "colab": {}
      },
      "source": [
        "y_train = df_train['new.returningCustomer']\n",
        "X_train = df_train.drop(columns=['new.returningCustomer'])\n",
        "\n",
        "y_test = df_test['new.returningCustomer']\n",
        "X_test = df_test.drop(columns=['new.returningCustomer']) "
      ],
      "execution_count": 0,
      "outputs": []
    },
    {
      "cell_type": "code",
      "metadata": {
        "id": "TrJ-g4tfQNrx",
        "colab_type": "code",
        "colab": {}
      },
      "source": [
        "X_train.dtypes"
      ],
      "execution_count": 0,
      "outputs": []
    },
    {
      "cell_type": "code",
      "metadata": {
        "id": "BahBUv-m69eG",
        "colab_type": "code",
        "colab": {}
      },
      "source": [
        "X_test.dtypes"
      ],
      "execution_count": 0,
      "outputs": []
    },
    {
      "cell_type": "markdown",
      "metadata": {
        "id": "8nMSlLbz6HTk",
        "colab_type": "text"
      },
      "source": [
        "## Converting Categorical Data to Numerical"
      ]
    },
    {
      "cell_type": "code",
      "metadata": {
        "id": "EZ9PfAO6cvpD",
        "colab_type": "code",
        "colab": {}
      },
      "source": [
        "def label_encoder(X):\n",
        "\n",
        "  lb = preprocessing.LabelBinarizer()\n",
        "  X['trafficSource.isTrueDirect'] = lb.fit_transform(X['trafficSource.isTrueDirect'])\n",
        "  X['device.isMobile'] = lb.transform(X['device.isMobile'])\n",
        "\n",
        "  ignoreColumns = {''}\n",
        "  for column in X.columns:\n",
        "      if (X[column].dtype != np.int64 and X[column].dtype != np.float64):\n",
        "          print(f\"Converting column: {column}\")\n",
        "\n",
        "          le = preprocessing.LabelEncoder()\n",
        "          X[column] = le.fit_transform(X[column])\n",
        "          del le\n",
        "\n",
        "  return X       "
      ],
      "execution_count": 0,
      "outputs": []
    },
    {
      "cell_type": "code",
      "metadata": {
        "id": "ACj5oJbi59Q0",
        "colab_type": "code",
        "colab": {}
      },
      "source": [
        "X_train = label_encoder(X_train)\n",
        "X_test = label_encoder(X_test)"
      ],
      "execution_count": 0,
      "outputs": []
    },
    {
      "cell_type": "code",
      "metadata": {
        "id": "FcM6V-AuQbmB",
        "colab_type": "code",
        "colab": {}
      },
      "source": [
        "X_train.dtypes"
      ],
      "execution_count": 0,
      "outputs": []
    },
    {
      "cell_type": "code",
      "metadata": {
        "id": "esJ2OMZl7iso",
        "colab_type": "code",
        "colab": {}
      },
      "source": [
        "X_test.dtypes"
      ],
      "execution_count": 0,
      "outputs": []
    },
    {
      "cell_type": "markdown",
      "metadata": {
        "id": "dbcZLWaLR3V1",
        "colab_type": "text"
      },
      "source": [
        "## Feature Selection"
      ]
    },
    {
      "cell_type": "code",
      "metadata": {
        "id": "lgNS7H4UyS2S",
        "colab_type": "code",
        "colab": {
          "base_uri": "https://localhost:8080/",
          "height": 52
        },
        "outputId": "9fd7142b-bf18-4cad-d3b8-4508c26b292e"
      },
      "source": [
        "model = ExtraTreesClassifier()\n",
        "model.fit(X_train, y_train)\n",
        "# display the relative importance of each attribute\n",
        "importances = model.feature_importances_\n",
        "indices = np.argsort(importances)[::-1]"
      ],
      "execution_count": 12,
      "outputs": [
        {
          "output_type": "stream",
          "text": [
            "/usr/local/lib/python3.6/dist-packages/sklearn/ensemble/forest.py:245: FutureWarning: The default value of n_estimators will change from 10 in version 0.20 to 100 in 0.22.\n",
            "  \"10 in version 0.20 to 100 in 0.22.\", FutureWarning)\n"
          ],
          "name": "stderr"
        }
      ]
    },
    {
      "cell_type": "code",
      "metadata": {
        "id": "9lXCyHVq-X4-",
        "colab_type": "code",
        "colab": {}
      },
      "source": [
        "unimp_col = []\n",
        "for f in range(X_train.shape[1]):\n",
        "    print(\"%d. feature %d %s (%f)\" % (f + 1, indices[f], X_train.columns[indices[f]], importances[indices[f]]))\n",
        "    if(importances[f]) < 0.01:\n",
        "      unimp_col += [X_train.columns[f]]\n",
        "\n",
        "unimp_col      "
      ],
      "execution_count": 0,
      "outputs": []
    },
    {
      "cell_type": "code",
      "metadata": {
        "id": "JX2As1yv3Ijy",
        "colab_type": "code",
        "colab": {}
      },
      "source": [
        "keep_cols = ['totals.bounces',\n",
        "             'totals.hits',\n",
        "             'totals.newVisits',\n",
        "             'totals.pageviews',\n",
        "             'totals.sessionQualityDim',\n",
        "             'totals.timeOnSite',\n",
        "             'trafficSource.isTrueDirect',\n",
        "             'visitNumber',\n",
        "             'country_dem',\n",
        "             'latitude',\n",
        "             'longitude']"
      ],
      "execution_count": 0,
      "outputs": []
    },
    {
      "cell_type": "code",
      "metadata": {
        "id": "xRYWyaCS3TcM",
        "colab_type": "code",
        "colab": {}
      },
      "source": [
        "unimp_col = []\n",
        "for col in X_train.columns:\n",
        "  if col not in keep_cols:\n",
        "    unimp_col += [col]"
      ],
      "execution_count": 0,
      "outputs": []
    },
    {
      "cell_type": "code",
      "metadata": {
        "id": "1tWs3Ll54LnX",
        "colab_type": "code",
        "colab": {
          "base_uri": "https://localhost:8080/",
          "height": 35
        },
        "outputId": "fe033ef8-fbaf-4087-cf24-c62497b3cbf0"
      },
      "source": [
        ""
      ],
      "execution_count": 36,
      "outputs": [
        {
          "output_type": "execute_result",
          "data": {
            "text/plain": [
              "41"
            ]
          },
          "metadata": {
            "tags": []
          },
          "execution_count": 36
        }
      ]
    },
    {
      "cell_type": "code",
      "metadata": {
        "id": "ozNYRtkhcU4a",
        "colab_type": "code",
        "colab": {
          "base_uri": "https://localhost:8080/",
          "height": 52
        },
        "outputId": "de962128-ebc4-4e15-908b-ddf261727989"
      },
      "source": [
        "X_train_imp = X_train.drop(columns = unimp_col)\n",
        "print(X_train_imp.shape)\n",
        "\n",
        "X_test_imp = X_test.drop(columns = unimp_col)\n",
        "X_test_imp.shape"
      ],
      "execution_count": 38,
      "outputs": [
        {
          "output_type": "stream",
          "text": [
            "(1537503, 11)\n"
          ],
          "name": "stdout"
        },
        {
          "output_type": "execute_result",
          "data": {
            "text/plain": [
              "(361429, 11)"
            ]
          },
          "metadata": {
            "tags": []
          },
          "execution_count": 38
        }
      ]
    },
    {
      "cell_type": "markdown",
      "metadata": {
        "id": "-IxtGUi3767y",
        "colab_type": "text"
      },
      "source": [
        "## Normalization of Data"
      ]
    },
    {
      "cell_type": "code",
      "metadata": {
        "id": "H9NnU_aIU4LS",
        "colab_type": "code",
        "colab": {}
      },
      "source": [
        "def ss_scale(X):\n",
        "  scaler = preprocessing.StandardScaler()\n",
        "  X[X.columns] = scaler.fit_transform(X[X.columns])\n",
        "  return X"
      ],
      "execution_count": 0,
      "outputs": []
    },
    {
      "cell_type": "code",
      "metadata": {
        "id": "m5b4745M8Odz",
        "colab_type": "code",
        "colab": {}
      },
      "source": [
        "def mm_scale(X):\n",
        "  scaler = preprocessing.MinMaxScaler()\n",
        "  X[X.columns] = scaler.fit_transform(X[X.columns])\n",
        "  return X"
      ],
      "execution_count": 0,
      "outputs": []
    },
    {
      "cell_type": "code",
      "metadata": {
        "id": "9LCBYmwenznQ",
        "colab_type": "code",
        "colab": {}
      },
      "source": [
        "X_train_ss = ss_scale(X_train_imp)\n",
        "X_test_ss = ss_scale(X_test_imp)\n",
        "\n",
        "X_train_mm = mm_scale(X_train_imp)\n",
        "X_test_mm = mm_scale(X_test_imp)"
      ],
      "execution_count": 0,
      "outputs": []
    },
    {
      "cell_type": "markdown",
      "metadata": {
        "id": "cP15WGjeT9yk",
        "colab_type": "text"
      },
      "source": [
        "## Linear Regression"
      ]
    },
    {
      "cell_type": "code",
      "metadata": {
        "id": "7JHdGf08EJ7E",
        "colab_type": "code",
        "colab": {}
      },
      "source": [
        "regressor = LinearRegression()\n",
        "regressor.fit(X_train_ss, y_train)\n",
        "\n",
        "y_pred_lr = regressor.predict(X_test_ss)"
      ],
      "execution_count": 0,
      "outputs": []
    },
    {
      "cell_type": "code",
      "metadata": {
        "id": "NJ4rJ6aXF-2H",
        "colab_type": "code",
        "outputId": "1c2f2490-a144-4c65-ff28-85741c852909",
        "colab": {
          "base_uri": "https://localhost:8080/",
          "height": 399
        }
      },
      "source": [
        "df_result_lr = pd.DataFrame({'Actual': y_test, 'Predicted': y_pred_lr})\n",
        "total_lr = df_result_lr.shape[0]\n",
        "df_result_lr"
      ],
      "execution_count": 43,
      "outputs": [
        {
          "output_type": "execute_result",
          "data": {
            "text/html": [
              "<div>\n",
              "<style scoped>\n",
              "    .dataframe tbody tr th:only-of-type {\n",
              "        vertical-align: middle;\n",
              "    }\n",
              "\n",
              "    .dataframe tbody tr th {\n",
              "        vertical-align: top;\n",
              "    }\n",
              "\n",
              "    .dataframe thead th {\n",
              "        text-align: right;\n",
              "    }\n",
              "</style>\n",
              "<table border=\"1\" class=\"dataframe\">\n",
              "  <thead>\n",
              "    <tr style=\"text-align: right;\">\n",
              "      <th></th>\n",
              "      <th>Actual</th>\n",
              "      <th>Predicted</th>\n",
              "    </tr>\n",
              "  </thead>\n",
              "  <tbody>\n",
              "    <tr>\n",
              "      <th>0</th>\n",
              "      <td>1</td>\n",
              "      <td>1.014561</td>\n",
              "    </tr>\n",
              "    <tr>\n",
              "      <th>1</th>\n",
              "      <td>1</td>\n",
              "      <td>1.012108</td>\n",
              "    </tr>\n",
              "    <tr>\n",
              "      <th>2</th>\n",
              "      <td>1</td>\n",
              "      <td>0.999533</td>\n",
              "    </tr>\n",
              "    <tr>\n",
              "      <th>3</th>\n",
              "      <td>1</td>\n",
              "      <td>1.001931</td>\n",
              "    </tr>\n",
              "    <tr>\n",
              "      <th>4</th>\n",
              "      <td>0</td>\n",
              "      <td>0.174451</td>\n",
              "    </tr>\n",
              "    <tr>\n",
              "      <th>...</th>\n",
              "      <td>...</td>\n",
              "      <td>...</td>\n",
              "    </tr>\n",
              "    <tr>\n",
              "      <th>361424</th>\n",
              "      <td>0</td>\n",
              "      <td>0.174445</td>\n",
              "    </tr>\n",
              "    <tr>\n",
              "      <th>361425</th>\n",
              "      <td>0</td>\n",
              "      <td>0.139098</td>\n",
              "    </tr>\n",
              "    <tr>\n",
              "      <th>361426</th>\n",
              "      <td>1</td>\n",
              "      <td>0.169994</td>\n",
              "    </tr>\n",
              "    <tr>\n",
              "      <th>361427</th>\n",
              "      <td>1</td>\n",
              "      <td>0.956381</td>\n",
              "    </tr>\n",
              "    <tr>\n",
              "      <th>361428</th>\n",
              "      <td>1</td>\n",
              "      <td>0.173529</td>\n",
              "    </tr>\n",
              "  </tbody>\n",
              "</table>\n",
              "<p>361429 rows × 2 columns</p>\n",
              "</div>"
            ],
            "text/plain": [
              "        Actual  Predicted\n",
              "0            1   1.014561\n",
              "1            1   1.012108\n",
              "2            1   0.999533\n",
              "3            1   1.001931\n",
              "4            0   0.174451\n",
              "...        ...        ...\n",
              "361424       0   0.174445\n",
              "361425       0   0.139098\n",
              "361426       1   0.169994\n",
              "361427       1   0.956381\n",
              "361428       1   0.173529\n",
              "\n",
              "[361429 rows x 2 columns]"
            ]
          },
          "metadata": {
            "tags": []
          },
          "execution_count": 43
        }
      ]
    },
    {
      "cell_type": "code",
      "metadata": {
        "id": "Ash51JKwGppG",
        "colab_type": "code",
        "outputId": "2c6c651e-cc04-49a2-d06d-90f36449b2f8",
        "colab": {
          "base_uri": "https://localhost:8080/",
          "height": 35
        }
      },
      "source": [
        "correct_lr = df_result_lr[abs(df_result_lr['Actual'] - df_result_lr['Predicted']) < 0.25].shape[0]\n",
        "acc_lr = correct_lr/total_lr * 100\n",
        "acc_lr"
      ],
      "execution_count": 44,
      "outputs": [
        {
          "output_type": "execute_result",
          "data": {
            "text/plain": [
              "84.76021569934898"
            ]
          },
          "metadata": {
            "tags": []
          },
          "execution_count": 44
        }
      ]
    },
    {
      "cell_type": "code",
      "metadata": {
        "id": "A3N6J1BPcPI5",
        "colab_type": "code",
        "colab": {
          "base_uri": "https://localhost:8080/",
          "height": 70
        },
        "outputId": "cadede14-3e94-41b7-c39e-15ff7c124ef7"
      },
      "source": [
        "print('Mean Absolute Error:', metrics.mean_absolute_error(y_test, y_pred_lr))  \n",
        "print('Mean Squared Error:', metrics.mean_squared_error(y_test, y_pred_lr))  \n",
        "print('Root Mean Squared Error:', np.sqrt(metrics.mean_squared_error(y_test, y_pred_lr)))"
      ],
      "execution_count": 45,
      "outputs": [
        {
          "output_type": "stream",
          "text": [
            "Mean Absolute Error: 0.21366084728591292\n",
            "Mean Squared Error: 0.11321787462389155\n",
            "Root Mean Squared Error: 0.33647863917920784\n"
          ],
          "name": "stdout"
        }
      ]
    },
    {
      "cell_type": "markdown",
      "metadata": {
        "id": "eRLe0zV0MjcO",
        "colab_type": "text"
      },
      "source": [
        "## Bayesian"
      ]
    },
    {
      "cell_type": "code",
      "metadata": {
        "id": "W7nt5Ve-MiPp",
        "colab_type": "code",
        "outputId": "14d0aeb0-e746-428a-d353-478b10599fcd",
        "colab": {
          "base_uri": "https://localhost:8080/",
          "height": 35
        }
      },
      "source": [
        " clf = GaussianNB()\n",
        " clf.fit(X_train_ss, y_train)"
      ],
      "execution_count": 46,
      "outputs": [
        {
          "output_type": "execute_result",
          "data": {
            "text/plain": [
              "GaussianNB(priors=None, var_smoothing=1e-09)"
            ]
          },
          "metadata": {
            "tags": []
          },
          "execution_count": 46
        }
      ]
    },
    {
      "cell_type": "code",
      "metadata": {
        "id": "v-k_BcAiMiST",
        "colab_type": "code",
        "colab": {}
      },
      "source": [
        "y_pred_gnb = clf.predict(X_test_ss)"
      ],
      "execution_count": 0,
      "outputs": []
    },
    {
      "cell_type": "code",
      "metadata": {
        "id": "aI8ASQoRMiUy",
        "colab_type": "code",
        "outputId": "ba13fe78-0e29-42a5-88a4-8f1ae30d2dcc",
        "colab": {
          "base_uri": "https://localhost:8080/",
          "height": 35
        }
      },
      "source": [
        "clf.score(X_test_ss, y_test)"
      ],
      "execution_count": 48,
      "outputs": [
        {
          "output_type": "execute_result",
          "data": {
            "text/plain": [
              "0.8472452404206635"
            ]
          },
          "metadata": {
            "tags": []
          },
          "execution_count": 48
        }
      ]
    },
    {
      "cell_type": "code",
      "metadata": {
        "id": "fFBkki2JMiYK",
        "colab_type": "code",
        "outputId": "2bd43b25-f7e9-4e5d-c5a3-996b936f8186",
        "colab": {
          "base_uri": "https://localhost:8080/",
          "height": 399
        }
      },
      "source": [
        "df_result_gnb = pd.DataFrame({'Actual': y_test, 'Predicted': y_pred_gnb})\n",
        "total_gnb = df_result_gnb.shape[0]\n",
        "df_result_gnb"
      ],
      "execution_count": 49,
      "outputs": [
        {
          "output_type": "execute_result",
          "data": {
            "text/html": [
              "<div>\n",
              "<style scoped>\n",
              "    .dataframe tbody tr th:only-of-type {\n",
              "        vertical-align: middle;\n",
              "    }\n",
              "\n",
              "    .dataframe tbody tr th {\n",
              "        vertical-align: top;\n",
              "    }\n",
              "\n",
              "    .dataframe thead th {\n",
              "        text-align: right;\n",
              "    }\n",
              "</style>\n",
              "<table border=\"1\" class=\"dataframe\">\n",
              "  <thead>\n",
              "    <tr style=\"text-align: right;\">\n",
              "      <th></th>\n",
              "      <th>Actual</th>\n",
              "      <th>Predicted</th>\n",
              "    </tr>\n",
              "  </thead>\n",
              "  <tbody>\n",
              "    <tr>\n",
              "      <th>0</th>\n",
              "      <td>1</td>\n",
              "      <td>1</td>\n",
              "    </tr>\n",
              "    <tr>\n",
              "      <th>1</th>\n",
              "      <td>1</td>\n",
              "      <td>1</td>\n",
              "    </tr>\n",
              "    <tr>\n",
              "      <th>2</th>\n",
              "      <td>1</td>\n",
              "      <td>1</td>\n",
              "    </tr>\n",
              "    <tr>\n",
              "      <th>3</th>\n",
              "      <td>1</td>\n",
              "      <td>1</td>\n",
              "    </tr>\n",
              "    <tr>\n",
              "      <th>4</th>\n",
              "      <td>0</td>\n",
              "      <td>0</td>\n",
              "    </tr>\n",
              "    <tr>\n",
              "      <th>...</th>\n",
              "      <td>...</td>\n",
              "      <td>...</td>\n",
              "    </tr>\n",
              "    <tr>\n",
              "      <th>361424</th>\n",
              "      <td>0</td>\n",
              "      <td>0</td>\n",
              "    </tr>\n",
              "    <tr>\n",
              "      <th>361425</th>\n",
              "      <td>0</td>\n",
              "      <td>0</td>\n",
              "    </tr>\n",
              "    <tr>\n",
              "      <th>361426</th>\n",
              "      <td>1</td>\n",
              "      <td>0</td>\n",
              "    </tr>\n",
              "    <tr>\n",
              "      <th>361427</th>\n",
              "      <td>1</td>\n",
              "      <td>1</td>\n",
              "    </tr>\n",
              "    <tr>\n",
              "      <th>361428</th>\n",
              "      <td>1</td>\n",
              "      <td>0</td>\n",
              "    </tr>\n",
              "  </tbody>\n",
              "</table>\n",
              "<p>361429 rows × 2 columns</p>\n",
              "</div>"
            ],
            "text/plain": [
              "        Actual  Predicted\n",
              "0            1          1\n",
              "1            1          1\n",
              "2            1          1\n",
              "3            1          1\n",
              "4            0          0\n",
              "...        ...        ...\n",
              "361424       0          0\n",
              "361425       0          0\n",
              "361426       1          0\n",
              "361427       1          1\n",
              "361428       1          0\n",
              "\n",
              "[361429 rows x 2 columns]"
            ]
          },
          "metadata": {
            "tags": []
          },
          "execution_count": 49
        }
      ]
    },
    {
      "cell_type": "code",
      "metadata": {
        "id": "CFcL4yqvNzkb",
        "colab_type": "code",
        "outputId": "1094588a-8f7b-46c4-b502-beea59c4ea1c",
        "colab": {
          "base_uri": "https://localhost:8080/",
          "height": 35
        }
      },
      "source": [
        "correct_gnb = df_result_gnb[abs(df_result_gnb['Actual'] - df_result_gnb['Predicted']) < 0.25].shape[0]\n",
        "acc_gnb = correct_gnb/total_gnb * 100\n",
        "acc_gnb"
      ],
      "execution_count": 50,
      "outputs": [
        {
          "output_type": "execute_result",
          "data": {
            "text/plain": [
              "84.72452404206635"
            ]
          },
          "metadata": {
            "tags": []
          },
          "execution_count": 50
        }
      ]
    },
    {
      "cell_type": "code",
      "metadata": {
        "colab_type": "code",
        "outputId": "61774bc5-92d9-493c-f361-183c9e88344b",
        "id": "yqGPqa46RBM2",
        "colab": {
          "base_uri": "https://localhost:8080/",
          "height": 35
        }
      },
      "source": [
        " clf = MultinomialNB()\n",
        " clf.fit(X_train_mm, y_train)"
      ],
      "execution_count": 51,
      "outputs": [
        {
          "output_type": "execute_result",
          "data": {
            "text/plain": [
              "MultinomialNB(alpha=1.0, class_prior=None, fit_prior=True)"
            ]
          },
          "metadata": {
            "tags": []
          },
          "execution_count": 51
        }
      ]
    },
    {
      "cell_type": "code",
      "metadata": {
        "colab_type": "code",
        "id": "oBOG2df6RBNJ",
        "colab": {}
      },
      "source": [
        "y_pred_mnb = clf.predict(X_test_mm)"
      ],
      "execution_count": 0,
      "outputs": []
    },
    {
      "cell_type": "code",
      "metadata": {
        "colab_type": "code",
        "outputId": "d89775f8-2e01-46d4-a5c0-4e688b1f0708",
        "id": "9O38sD6gRBNM",
        "colab": {
          "base_uri": "https://localhost:8080/",
          "height": 35
        }
      },
      "source": [
        "clf.score(X_test_mm, y_test)"
      ],
      "execution_count": 53,
      "outputs": [
        {
          "output_type": "execute_result",
          "data": {
            "text/plain": [
              "0.8010480619983454"
            ]
          },
          "metadata": {
            "tags": []
          },
          "execution_count": 53
        }
      ]
    },
    {
      "cell_type": "code",
      "metadata": {
        "colab_type": "code",
        "outputId": "16c258af-1b52-4e3a-8155-a4fa3ccc85ee",
        "id": "MJZ1CoXhRBNO",
        "colab": {
          "base_uri": "https://localhost:8080/",
          "height": 399
        }
      },
      "source": [
        "df_result_mnb = pd.DataFrame({'Actual': y_test, 'Predicted': y_pred_mnb})\n",
        "total_mnb = df_result_mnb.shape[0]\n",
        "df_result_mnb"
      ],
      "execution_count": 54,
      "outputs": [
        {
          "output_type": "execute_result",
          "data": {
            "text/html": [
              "<div>\n",
              "<style scoped>\n",
              "    .dataframe tbody tr th:only-of-type {\n",
              "        vertical-align: middle;\n",
              "    }\n",
              "\n",
              "    .dataframe tbody tr th {\n",
              "        vertical-align: top;\n",
              "    }\n",
              "\n",
              "    .dataframe thead th {\n",
              "        text-align: right;\n",
              "    }\n",
              "</style>\n",
              "<table border=\"1\" class=\"dataframe\">\n",
              "  <thead>\n",
              "    <tr style=\"text-align: right;\">\n",
              "      <th></th>\n",
              "      <th>Actual</th>\n",
              "      <th>Predicted</th>\n",
              "    </tr>\n",
              "  </thead>\n",
              "  <tbody>\n",
              "    <tr>\n",
              "      <th>0</th>\n",
              "      <td>1</td>\n",
              "      <td>1</td>\n",
              "    </tr>\n",
              "    <tr>\n",
              "      <th>1</th>\n",
              "      <td>1</td>\n",
              "      <td>1</td>\n",
              "    </tr>\n",
              "    <tr>\n",
              "      <th>2</th>\n",
              "      <td>1</td>\n",
              "      <td>1</td>\n",
              "    </tr>\n",
              "    <tr>\n",
              "      <th>3</th>\n",
              "      <td>1</td>\n",
              "      <td>1</td>\n",
              "    </tr>\n",
              "    <tr>\n",
              "      <th>4</th>\n",
              "      <td>0</td>\n",
              "      <td>0</td>\n",
              "    </tr>\n",
              "    <tr>\n",
              "      <th>...</th>\n",
              "      <td>...</td>\n",
              "      <td>...</td>\n",
              "    </tr>\n",
              "    <tr>\n",
              "      <th>361424</th>\n",
              "      <td>0</td>\n",
              "      <td>0</td>\n",
              "    </tr>\n",
              "    <tr>\n",
              "      <th>361425</th>\n",
              "      <td>0</td>\n",
              "      <td>0</td>\n",
              "    </tr>\n",
              "    <tr>\n",
              "      <th>361426</th>\n",
              "      <td>1</td>\n",
              "      <td>0</td>\n",
              "    </tr>\n",
              "    <tr>\n",
              "      <th>361427</th>\n",
              "      <td>1</td>\n",
              "      <td>1</td>\n",
              "    </tr>\n",
              "    <tr>\n",
              "      <th>361428</th>\n",
              "      <td>1</td>\n",
              "      <td>0</td>\n",
              "    </tr>\n",
              "  </tbody>\n",
              "</table>\n",
              "<p>361429 rows × 2 columns</p>\n",
              "</div>"
            ],
            "text/plain": [
              "        Actual  Predicted\n",
              "0            1          1\n",
              "1            1          1\n",
              "2            1          1\n",
              "3            1          1\n",
              "4            0          0\n",
              "...        ...        ...\n",
              "361424       0          0\n",
              "361425       0          0\n",
              "361426       1          0\n",
              "361427       1          1\n",
              "361428       1          0\n",
              "\n",
              "[361429 rows x 2 columns]"
            ]
          },
          "metadata": {
            "tags": []
          },
          "execution_count": 54
        }
      ]
    },
    {
      "cell_type": "code",
      "metadata": {
        "colab_type": "code",
        "outputId": "9047fdf6-a173-4019-b238-04483cfb9a9a",
        "id": "k-PK09sWRBNR",
        "colab": {
          "base_uri": "https://localhost:8080/",
          "height": 35
        }
      },
      "source": [
        "correct_mnb = df_result_mnb[abs(df_result_mnb['Actual'] - df_result_mnb['Predicted']) < 0.25].shape[0]\n",
        "acc_mnb = correct_mnb/total_mnb * 100\n",
        "acc_mnb"
      ],
      "execution_count": 55,
      "outputs": [
        {
          "output_type": "execute_result",
          "data": {
            "text/plain": [
              "80.10480619983454"
            ]
          },
          "metadata": {
            "tags": []
          },
          "execution_count": 55
        }
      ]
    },
    {
      "cell_type": "markdown",
      "metadata": {
        "id": "7SjuCk3TSdi4",
        "colab_type": "text"
      },
      "source": [
        "# Clustering"
      ]
    },
    {
      "cell_type": "code",
      "metadata": {
        "id": "jY6Be5wTSfk6",
        "colab_type": "code",
        "colab": {}
      },
      "source": [
        "kmeans = KMeans(n_clusters=2, random_state=0).fit(X_train_mm)"
      ],
      "execution_count": 0,
      "outputs": []
    },
    {
      "cell_type": "code",
      "metadata": {
        "id": "ntFo54OWTr9v",
        "colab_type": "code",
        "outputId": "300bb7ae-3b19-4474-de9f-9cde719d5c48",
        "colab": {
          "base_uri": "https://localhost:8080/",
          "height": 35
        }
      },
      "source": [
        "kmeans.labels_"
      ],
      "execution_count": 57,
      "outputs": [
        {
          "output_type": "execute_result",
          "data": {
            "text/plain": [
              "array([1, 1, 0, ..., 0, 0, 0], dtype=int32)"
            ]
          },
          "metadata": {
            "tags": []
          },
          "execution_count": 57
        }
      ]
    },
    {
      "cell_type": "code",
      "metadata": {
        "id": "s1m3Oc2TTsBE",
        "colab_type": "code",
        "colab": {}
      },
      "source": [
        "y_pred_cl = kmeans.predict(X_test_mm)"
      ],
      "execution_count": 0,
      "outputs": []
    },
    {
      "cell_type": "code",
      "metadata": {
        "id": "bYqTaaXtTsDw",
        "colab_type": "code",
        "outputId": "ecc7ef70-aefc-43bd-b391-95d72d22a4f8",
        "colab": {
          "base_uri": "https://localhost:8080/",
          "height": 35
        }
      },
      "source": [
        "kmeans.score(X_test_mm)"
      ],
      "execution_count": 59,
      "outputs": [
        {
          "output_type": "execute_result",
          "data": {
            "text/plain": [
              "-258786.10792106332"
            ]
          },
          "metadata": {
            "tags": []
          },
          "execution_count": 59
        }
      ]
    },
    {
      "cell_type": "code",
      "metadata": {
        "id": "IURY8wZCWCti",
        "colab_type": "code",
        "outputId": "1d289ede-907c-4e2c-f266-8ea4ae928bc1",
        "colab": {
          "base_uri": "https://localhost:8080/",
          "height": 124
        }
      },
      "source": [
        "kmeans.cluster_centers_"
      ],
      "execution_count": 60,
      "outputs": [
        {
          "output_type": "execute_result",
          "data": {
            "text/plain": [
              "array([[5.28411454e-01, 5.83593756e-03, 9.74188973e-01, 4.64423355e-03,\n",
              "        1.23360976e-02, 5.29891102e-03, 5.90877347e-12, 1.36369810e-04,\n",
              "        3.65631653e-01, 6.43646562e-01, 4.68305912e-01],\n",
              "       [4.73936165e-01, 8.92027756e-03, 3.54539576e-01, 6.90586935e-03,\n",
              "        3.26131202e-02, 8.91228812e-03, 9.28086786e-01, 8.42862905e-03,\n",
              "        6.07784776e-01, 6.68416920e-01, 3.67009880e-01]])"
            ]
          },
          "metadata": {
            "tags": []
          },
          "execution_count": 60
        }
      ]
    },
    {
      "cell_type": "code",
      "metadata": {
        "id": "_PprVf5WXe2c",
        "colab_type": "code",
        "outputId": "35968135-e658-47c3-ef5b-98fcd2764047",
        "colab": {
          "base_uri": "https://localhost:8080/",
          "height": 399
        }
      },
      "source": [
        "df_result_cl = pd.DataFrame({'Actual': y_test, 'Predicted': y_pred_cl})\n",
        "total_cl = df_result_cl.shape[0]\n",
        "df_result_cl"
      ],
      "execution_count": 62,
      "outputs": [
        {
          "output_type": "execute_result",
          "data": {
            "text/html": [
              "<div>\n",
              "<style scoped>\n",
              "    .dataframe tbody tr th:only-of-type {\n",
              "        vertical-align: middle;\n",
              "    }\n",
              "\n",
              "    .dataframe tbody tr th {\n",
              "        vertical-align: top;\n",
              "    }\n",
              "\n",
              "    .dataframe thead th {\n",
              "        text-align: right;\n",
              "    }\n",
              "</style>\n",
              "<table border=\"1\" class=\"dataframe\">\n",
              "  <thead>\n",
              "    <tr style=\"text-align: right;\">\n",
              "      <th></th>\n",
              "      <th>Actual</th>\n",
              "      <th>Predicted</th>\n",
              "    </tr>\n",
              "  </thead>\n",
              "  <tbody>\n",
              "    <tr>\n",
              "      <th>0</th>\n",
              "      <td>1</td>\n",
              "      <td>1</td>\n",
              "    </tr>\n",
              "    <tr>\n",
              "      <th>1</th>\n",
              "      <td>1</td>\n",
              "      <td>1</td>\n",
              "    </tr>\n",
              "    <tr>\n",
              "      <th>2</th>\n",
              "      <td>1</td>\n",
              "      <td>1</td>\n",
              "    </tr>\n",
              "    <tr>\n",
              "      <th>3</th>\n",
              "      <td>1</td>\n",
              "      <td>1</td>\n",
              "    </tr>\n",
              "    <tr>\n",
              "      <th>4</th>\n",
              "      <td>0</td>\n",
              "      <td>0</td>\n",
              "    </tr>\n",
              "    <tr>\n",
              "      <th>...</th>\n",
              "      <td>...</td>\n",
              "      <td>...</td>\n",
              "    </tr>\n",
              "    <tr>\n",
              "      <th>361424</th>\n",
              "      <td>0</td>\n",
              "      <td>0</td>\n",
              "    </tr>\n",
              "    <tr>\n",
              "      <th>361425</th>\n",
              "      <td>0</td>\n",
              "      <td>0</td>\n",
              "    </tr>\n",
              "    <tr>\n",
              "      <th>361426</th>\n",
              "      <td>1</td>\n",
              "      <td>0</td>\n",
              "    </tr>\n",
              "    <tr>\n",
              "      <th>361427</th>\n",
              "      <td>1</td>\n",
              "      <td>1</td>\n",
              "    </tr>\n",
              "    <tr>\n",
              "      <th>361428</th>\n",
              "      <td>1</td>\n",
              "      <td>0</td>\n",
              "    </tr>\n",
              "  </tbody>\n",
              "</table>\n",
              "<p>361429 rows × 2 columns</p>\n",
              "</div>"
            ],
            "text/plain": [
              "        Actual  Predicted\n",
              "0            1          1\n",
              "1            1          1\n",
              "2            1          1\n",
              "3            1          1\n",
              "4            0          0\n",
              "...        ...        ...\n",
              "361424       0          0\n",
              "361425       0          0\n",
              "361426       1          0\n",
              "361427       1          1\n",
              "361428       1          0\n",
              "\n",
              "[361429 rows x 2 columns]"
            ]
          },
          "metadata": {
            "tags": []
          },
          "execution_count": 62
        }
      ]
    },
    {
      "cell_type": "code",
      "metadata": {
        "id": "vZtIVDoPX46T",
        "colab_type": "code",
        "outputId": "132293a2-cd17-4eea-f47f-50d9301663f3",
        "colab": {
          "base_uri": "https://localhost:8080/",
          "height": 35
        }
      },
      "source": [
        "correct_cl = df_result_cl[abs(df_result_cl['Actual'] - df_result_cl['Predicted']) < 0.25].shape[0]\n",
        "acc_cl = correct_cl/total_cl * 100\n",
        "acc_cl"
      ],
      "execution_count": 64,
      "outputs": [
        {
          "output_type": "execute_result",
          "data": {
            "text/plain": [
              "76.20832860672498"
            ]
          },
          "metadata": {
            "tags": []
          },
          "execution_count": 64
        }
      ]
    }
  ]
}