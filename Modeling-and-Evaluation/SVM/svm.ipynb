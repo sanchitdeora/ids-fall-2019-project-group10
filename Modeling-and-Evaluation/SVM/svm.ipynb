{
  "nbformat": 4,
  "nbformat_minor": 0,
  "metadata": {
    "colab": {
      "name": "modelling.ipynb",
      "provenance": []
    },
    "kernelspec": {
      "name": "python3",
      "display_name": "Python 3"
    },
    "language_info": {
      "codemirror_mode": {
        "name": "ipython",
        "version": 3
      },
      "file_extension": ".py",
      "mimetype": "text/x-python",
      "name": "python",
      "nbconvert_exporter": "python",
      "pygments_lexer": "ipython3",
      "version": "3.7.4"
    },
    "accelerator": "GPU"
  },
  "cells": [
    {
      "cell_type": "code",
      "metadata": {
        "colab_type": "code",
        "id": "3lxq2_bM-DSo",
        "outputId": "ea591802-3db1-4773-8194-7c328ebe67a0",
        "colab": {
          "base_uri": "https://localhost:8080/",
          "height": 35
        }
      },
      "source": [
        "from google.colab import drive\n",
        "drive.mount('/content/drive')"
      ],
      "execution_count": 1,
      "outputs": [
        {
          "output_type": "stream",
          "text": [
            "Drive already mounted at /content/drive; to attempt to forcibly remount, call drive.mount(\"/content/drive\", force_remount=True).\n"
          ],
          "name": "stdout"
        }
      ]
    },
    {
      "cell_type": "code",
      "metadata": {
        "colab_type": "code",
        "id": "nDBYWg-F-bkN",
        "outputId": "87f362a6-7ec7-4a56-f785-ecaef6497a6e",
        "colab": {
          "base_uri": "https://localhost:8080/",
          "height": 35
        }
      },
      "source": [
        "%cd '/content/drive/My Drive/UF/Intro to Data Science/Project/Modelling'"
      ],
      "execution_count": 2,
      "outputs": [
        {
          "output_type": "stream",
          "text": [
            "/content/drive/My Drive/UF/Intro to Data Science/Project/Modelling\n"
          ],
          "name": "stdout"
        }
      ]
    },
    {
      "cell_type": "code",
      "metadata": {
        "colab_type": "code",
        "id": "GaCItEWFI-0t",
        "outputId": "ce41f414-733a-4159-d3cb-ce2ca6f24734",
        "colab": {
          "base_uri": "https://localhost:8080/",
          "height": 52
        }
      },
      "source": [
        "%ls"
      ],
      "execution_count": 3,
      "outputs": [
        {
          "output_type": "stream",
          "text": [
            "11152019_test_final.csv  11152019_train_final.csv  linear_clf.pickle\n",
            "11152019_test_final.zip  11152019_train_final.zip  modelling_corr.ipynb\n"
          ],
          "name": "stdout"
        }
      ]
    },
    {
      "cell_type": "code",
      "metadata": {
        "colab_type": "code",
        "id": "LKqjkdj6IF_q",
        "colab": {}
      },
      "source": [
        "import numpy as np\n",
        "import pandas as pd\n",
        "import sklearn.svm as svm\n",
        "from sklearn import preprocessing\n",
        "import pickle"
      ],
      "execution_count": 0,
      "outputs": []
    },
    {
      "cell_type": "code",
      "metadata": {
        "colab_type": "code",
        "id": "yLA5hc--I8E6",
        "outputId": "b1b426af-8b51-4633-b2c2-82bb3c9fbf9c",
        "colab": {
          "base_uri": "https://localhost:8080/",
          "height": 35
        }
      },
      "source": [
        "train = pd.read_csv(\"11152019_train_final.csv\")\n",
        "test = pd.read_csv(\"11152019_test_final.csv\")\n",
        "train.shape, test.shape"
      ],
      "execution_count": 5,
      "outputs": [
        {
          "output_type": "execute_result",
          "data": {
            "text/plain": [
              "((1537503, 42), (361429, 42))"
            ]
          },
          "metadata": {
            "tags": []
          },
          "execution_count": 5
        }
      ]
    },
    {
      "cell_type": "code",
      "metadata": {
        "id": "7nrvr04JmPSI",
        "colab_type": "code",
        "outputId": "9aa8eb7f-a620-4a22-dd7f-f262eb7448a0",
        "colab": {
          "base_uri": "https://localhost:8080/",
          "height": 355
        }
      },
      "source": [
        "train.columns"
      ],
      "execution_count": 6,
      "outputs": [
        {
          "output_type": "execute_result",
          "data": {
            "text/plain": [
              "Index(['channelGrouping', 'device.browser', 'device.deviceCategory',\n",
              "       'device.isMobile', 'device.operatingSystem', 'fullVisitorId',\n",
              "       'geoNetwork.city', 'geoNetwork.continent', 'geoNetwork.country',\n",
              "       'geoNetwork.networkDomain', 'geoNetwork.region',\n",
              "       'geoNetwork.subContinent', 'totals.bounces', 'totals.hits',\n",
              "       'totals.newVisits', 'totals.pageviews', 'totals.sessionQualityDim',\n",
              "       'totals.timeOnSite', 'totals.totalTransactionRevenue',\n",
              "       'totals.transactionRevenue', 'totals.transactions',\n",
              "       'trafficSource.adContent',\n",
              "       'trafficSource.adwordsClickInfo.adNetworkType',\n",
              "       'trafficSource.adwordsClickInfo.gclId',\n",
              "       'trafficSource.adwordsClickInfo.page',\n",
              "       'trafficSource.adwordsClickInfo.slot', 'trafficSource.campaign',\n",
              "       'trafficSource.isTrueDirect', 'trafficSource.keyword',\n",
              "       'trafficSource.medium', 'trafficSource.referralPath',\n",
              "       'trafficSource.source', 'visitId', 'visitNumber', 'visitStartTime',\n",
              "       'new.returningCustomer', 'year', 'month', 'day', 'country_dem',\n",
              "       'latitude', 'longitude'],\n",
              "      dtype='object')"
            ]
          },
          "metadata": {
            "tags": []
          },
          "execution_count": 6
        }
      ]
    },
    {
      "cell_type": "code",
      "metadata": {
        "id": "juSGU_FAVcE_",
        "colab_type": "code",
        "colab": {
          "base_uri": "https://localhost:8080/",
          "height": 781
        },
        "outputId": "c116bb88-7b6c-4e10-b7f1-0a97071b1391"
      },
      "source": [
        "train.isna().sum(axis=0)"
      ],
      "execution_count": 7,
      "outputs": [
        {
          "output_type": "execute_result",
          "data": {
            "text/plain": [
              "channelGrouping                                 0\n",
              "device.browser                                  0\n",
              "device.deviceCategory                           0\n",
              "device.isMobile                                 0\n",
              "device.operatingSystem                          0\n",
              "fullVisitorId                                   0\n",
              "geoNetwork.city                                 0\n",
              "geoNetwork.continent                            0\n",
              "geoNetwork.country                              0\n",
              "geoNetwork.networkDomain                        0\n",
              "geoNetwork.region                               0\n",
              "geoNetwork.subContinent                         0\n",
              "totals.bounces                                  0\n",
              "totals.hits                                     0\n",
              "totals.newVisits                                0\n",
              "totals.pageviews                                0\n",
              "totals.sessionQualityDim                        0\n",
              "totals.timeOnSite                               0\n",
              "totals.totalTransactionRevenue                  0\n",
              "totals.transactionRevenue                       0\n",
              "totals.transactions                             0\n",
              "trafficSource.adContent                         0\n",
              "trafficSource.adwordsClickInfo.adNetworkType    0\n",
              "trafficSource.adwordsClickInfo.gclId            0\n",
              "trafficSource.adwordsClickInfo.page             0\n",
              "trafficSource.adwordsClickInfo.slot             0\n",
              "trafficSource.campaign                          0\n",
              "trafficSource.isTrueDirect                      0\n",
              "trafficSource.keyword                           0\n",
              "trafficSource.medium                            0\n",
              "trafficSource.referralPath                      0\n",
              "trafficSource.source                            0\n",
              "visitId                                         0\n",
              "visitNumber                                     0\n",
              "visitStartTime                                  0\n",
              "new.returningCustomer                           0\n",
              "year                                            0\n",
              "month                                           0\n",
              "day                                             0\n",
              "country_dem                                     0\n",
              "latitude                                        0\n",
              "longitude                                       0\n",
              "dtype: int64"
            ]
          },
          "metadata": {
            "tags": []
          },
          "execution_count": 7
        }
      ]
    },
    {
      "cell_type": "code",
      "metadata": {
        "id": "w-gLhWVHmRus",
        "colab_type": "code",
        "outputId": "8353170c-cb1d-4ddc-9bb7-d2e3e69fc8dc",
        "colab": {
          "base_uri": "https://localhost:8080/",
          "height": 106
        }
      },
      "source": [
        "y = train['new.returningCustomer']\n",
        "X = train.drop(columns=['new.returningCustomer'])\n",
        "keep_cols = ['totals.bounces',\n",
        "             'totals.hits',\n",
        "             'totals.newVisits',\n",
        "             'totals.pageviews',\n",
        "             'totals.sessionQualityDim',\n",
        "             'totals.timeOnSite',\n",
        "             'trafficSource.isTrueDirect',\n",
        "             'visitNumber',\n",
        "             'country_dem',\n",
        "             'latitude',\n",
        "             'longitude']\n",
        "\n",
        "X = X[keep_cols]\n",
        "\n",
        "X.columns"
      ],
      "execution_count": 8,
      "outputs": [
        {
          "output_type": "execute_result",
          "data": {
            "text/plain": [
              "Index(['totals.bounces', 'totals.hits', 'totals.newVisits', 'totals.pageviews',\n",
              "       'totals.sessionQualityDim', 'totals.timeOnSite',\n",
              "       'trafficSource.isTrueDirect', 'visitNumber', 'country_dem', 'latitude',\n",
              "       'longitude'],\n",
              "      dtype='object')"
            ]
          },
          "metadata": {
            "tags": []
          },
          "execution_count": 8
        }
      ]
    },
    {
      "cell_type": "code",
      "metadata": {
        "id": "UmWSAc5qoI5i",
        "colab_type": "code",
        "outputId": "6e67bf19-d2b5-428c-d420-ae9f9f8a9de0",
        "colab": {
          "base_uri": "https://localhost:8080/",
          "height": 35
        }
      },
      "source": [
        "y.name"
      ],
      "execution_count": 9,
      "outputs": [
        {
          "output_type": "execute_result",
          "data": {
            "text/plain": [
              "'new.returningCustomer'"
            ]
          },
          "metadata": {
            "tags": []
          },
          "execution_count": 9
        }
      ]
    },
    {
      "cell_type": "code",
      "metadata": {
        "id": "iXAW8Qe1z0UH",
        "colab_type": "code",
        "colab": {}
      },
      "source": [
        "def preprocess(df):\n",
        "\n",
        "  y = df['new.returningCustomer']\n",
        "  X = df.drop(columns=['new.returningCustomer'])\n",
        "  keep_cols = ['totals.bounces',\n",
        "              'totals.hits',\n",
        "              'totals.newVisits',\n",
        "              'totals.pageviews',\n",
        "              'totals.sessionQualityDim',\n",
        "              'totals.timeOnSite',\n",
        "              'trafficSource.isTrueDirect',\n",
        "              'visitNumber',\n",
        "              'country_dem',\n",
        "              'latitude',\n",
        "              'longitude']\n",
        "\n",
        "  X = X[keep_cols]\n",
        "\n",
        "  return X,y\n",
        "\n",
        "def encode(X):\n",
        "\n",
        "  lb = preprocessing.LabelBinarizer()\n",
        "  X['trafficSource.isTrueDirect'] = lb.fit_transform(X['trafficSource.isTrueDirect'])\n",
        "\n",
        "  # Not in keep_cols\n",
        "  # X['device.isMobile'] = lb.transform(X['device.isMobile'])\n",
        "\n",
        "  # Not in keep_cols\n",
        "  # X['visitStartTime'].dtype == np.int64\n",
        "\n",
        "  ignoreColumns = {''}\n",
        "  for column in X.columns:\n",
        "      if (X[column].dtype != np.int64 and X[column].dtype != np.float64):\n",
        "          print(f\"Converting column: {column}\")\n",
        "\n",
        "          le = preprocessing.LabelEncoder()\n",
        "          X[column] = le.fit_transform(X[column])\n",
        "          del le\n",
        "\n",
        "  return X\n",
        "\n",
        "def scale(X):\n",
        "  scaler = preprocessing.StandardScaler()\n",
        "  X[X.columns] = scaler.fit_transform(X[X.columns])\n",
        "  return X"
      ],
      "execution_count": 0,
      "outputs": []
    },
    {
      "cell_type": "code",
      "metadata": {
        "id": "nZzLS-dP0E-R",
        "colab_type": "code",
        "colab": {}
      },
      "source": [
        "X, y = preprocess(train)\n",
        "X = encode(X)\n",
        "X = scale(X)"
      ],
      "execution_count": 0,
      "outputs": []
    },
    {
      "cell_type": "code",
      "metadata": {
        "id": "TML1ZSef0lYo",
        "colab_type": "code",
        "colab": {
          "base_uri": "https://localhost:8080/",
          "height": 35
        },
        "outputId": "82f4eed6-34a7-4e12-cd51-9d7d7833f082"
      },
      "source": [
        "X.shape, y.shape"
      ],
      "execution_count": 12,
      "outputs": [
        {
          "output_type": "execute_result",
          "data": {
            "text/plain": [
              "((1537503, 11), (1537503,))"
            ]
          },
          "metadata": {
            "tags": []
          },
          "execution_count": 12
        }
      ]
    },
    {
      "cell_type": "code",
      "metadata": {
        "id": "q3gr1NuykyDU",
        "colab_type": "code",
        "outputId": "26cd7501-8fe3-4fd5-d8c9-fb038c10ce3d",
        "colab": {
          "base_uri": "https://localhost:8080/",
          "height": 230
        }
      },
      "source": [
        "X.dtypes"
      ],
      "execution_count": 13,
      "outputs": [
        {
          "output_type": "execute_result",
          "data": {
            "text/plain": [
              "totals.bounces                float64\n",
              "totals.hits                   float64\n",
              "totals.newVisits              float64\n",
              "totals.pageviews              float64\n",
              "totals.sessionQualityDim      float64\n",
              "totals.timeOnSite             float64\n",
              "trafficSource.isTrueDirect    float64\n",
              "visitNumber                   float64\n",
              "country_dem                   float64\n",
              "latitude                      float64\n",
              "longitude                     float64\n",
              "dtype: object"
            ]
          },
          "metadata": {
            "tags": []
          },
          "execution_count": 13
        }
      ]
    },
    {
      "cell_type": "code",
      "metadata": {
        "id": "97AvjY8Ak9B3",
        "colab_type": "code",
        "outputId": "91385922-a2f5-4793-d5c1-5da4f8c30640",
        "colab": {
          "base_uri": "https://localhost:8080/",
          "height": 88
        }
      },
      "source": [
        "linear_svc = svm.LinearSVC(verbose=1)\n",
        "linear_svc"
      ],
      "execution_count": 14,
      "outputs": [
        {
          "output_type": "execute_result",
          "data": {
            "text/plain": [
              "LinearSVC(C=1.0, class_weight=None, dual=True, fit_intercept=True,\n",
              "          intercept_scaling=1, loss='squared_hinge', max_iter=1000,\n",
              "          multi_class='ovr', penalty='l2', random_state=None, tol=0.0001,\n",
              "          verbose=1)"
            ]
          },
          "metadata": {
            "tags": []
          },
          "execution_count": 14
        }
      ]
    },
    {
      "cell_type": "code",
      "metadata": {
        "id": "00CVot-jpYos",
        "colab_type": "code",
        "outputId": "4019e967-0e8d-4b47-d72c-040192873e94",
        "colab": {
          "base_uri": "https://localhost:8080/",
          "height": 124
        }
      },
      "source": [
        "linear_svc.fit(X, y)"
      ],
      "execution_count": 15,
      "outputs": [
        {
          "output_type": "stream",
          "text": [
            "[LibLinear]"
          ],
          "name": "stdout"
        },
        {
          "output_type": "stream",
          "text": [
            "/usr/local/lib/python3.6/dist-packages/sklearn/svm/base.py:929: ConvergenceWarning: Liblinear failed to converge, increase the number of iterations.\n",
            "  \"the number of iterations.\", ConvergenceWarning)\n"
          ],
          "name": "stderr"
        },
        {
          "output_type": "execute_result",
          "data": {
            "text/plain": [
              "LinearSVC(C=1.0, class_weight=None, dual=True, fit_intercept=True,\n",
              "          intercept_scaling=1, loss='squared_hinge', max_iter=1000,\n",
              "          multi_class='ovr', penalty='l2', random_state=None, tol=0.0001,\n",
              "          verbose=1)"
            ]
          },
          "metadata": {
            "tags": []
          },
          "execution_count": 15
        }
      ]
    },
    {
      "cell_type": "code",
      "metadata": {
        "id": "YifNGBrvpcbE",
        "colab_type": "code",
        "colab": {
          "base_uri": "https://localhost:8080/",
          "height": 35
        },
        "outputId": "8444fca1-08ea-4e6d-faeb-72520fd7e262"
      },
      "source": [
        "linear_svc.score(X, y)"
      ],
      "execution_count": 16,
      "outputs": [
        {
          "output_type": "execute_result",
          "data": {
            "text/plain": [
              "0.888315665075125"
            ]
          },
          "metadata": {
            "tags": []
          },
          "execution_count": 16
        }
      ]
    },
    {
      "cell_type": "code",
      "metadata": {
        "id": "8LQloWa8phwq",
        "colab_type": "code",
        "colab": {}
      },
      "source": [
        ""
      ],
      "execution_count": 0,
      "outputs": []
    },
    {
      "cell_type": "code",
      "metadata": {
        "id": "CVkV6RHmAvHs",
        "colab_type": "code",
        "outputId": "96950c03-686e-41ff-fbf1-eb57c66b0c00",
        "colab": {
          "base_uri": "https://localhost:8080/",
          "height": 220
        }
      },
      "source": [
        "X_test, y_test = preprocess(test)\n",
        "X_test.head()"
      ],
      "execution_count": 17,
      "outputs": [
        {
          "output_type": "execute_result",
          "data": {
            "text/html": [
              "<div>\n",
              "<style scoped>\n",
              "    .dataframe tbody tr th:only-of-type {\n",
              "        vertical-align: middle;\n",
              "    }\n",
              "\n",
              "    .dataframe tbody tr th {\n",
              "        vertical-align: top;\n",
              "    }\n",
              "\n",
              "    .dataframe thead th {\n",
              "        text-align: right;\n",
              "    }\n",
              "</style>\n",
              "<table border=\"1\" class=\"dataframe\">\n",
              "  <thead>\n",
              "    <tr style=\"text-align: right;\">\n",
              "      <th></th>\n",
              "      <th>totals.bounces</th>\n",
              "      <th>totals.hits</th>\n",
              "      <th>totals.newVisits</th>\n",
              "      <th>totals.pageviews</th>\n",
              "      <th>totals.sessionQualityDim</th>\n",
              "      <th>totals.timeOnSite</th>\n",
              "      <th>trafficSource.isTrueDirect</th>\n",
              "      <th>visitNumber</th>\n",
              "      <th>country_dem</th>\n",
              "      <th>latitude</th>\n",
              "      <th>longitude</th>\n",
              "    </tr>\n",
              "  </thead>\n",
              "  <tbody>\n",
              "    <tr>\n",
              "      <th>0</th>\n",
              "      <td>-1.0</td>\n",
              "      <td>4</td>\n",
              "      <td>0.0</td>\n",
              "      <td>3.0</td>\n",
              "      <td>1</td>\n",
              "      <td>973.0</td>\n",
              "      <td>True</td>\n",
              "      <td>2</td>\n",
              "      <td>26043</td>\n",
              "      <td>20.593684</td>\n",
              "      <td>78.962880</td>\n",
              "    </tr>\n",
              "    <tr>\n",
              "      <th>1</th>\n",
              "      <td>-1.0</td>\n",
              "      <td>4</td>\n",
              "      <td>0.0</td>\n",
              "      <td>3.0</td>\n",
              "      <td>1</td>\n",
              "      <td>49.0</td>\n",
              "      <td>True</td>\n",
              "      <td>166</td>\n",
              "      <td>162791</td>\n",
              "      <td>37.090240</td>\n",
              "      <td>-95.712891</td>\n",
              "    </tr>\n",
              "    <tr>\n",
              "      <th>2</th>\n",
              "      <td>-1.0</td>\n",
              "      <td>4</td>\n",
              "      <td>0.0</td>\n",
              "      <td>3.0</td>\n",
              "      <td>1</td>\n",
              "      <td>24.0</td>\n",
              "      <td>True</td>\n",
              "      <td>2</td>\n",
              "      <td>162791</td>\n",
              "      <td>37.090240</td>\n",
              "      <td>-95.712891</td>\n",
              "    </tr>\n",
              "    <tr>\n",
              "      <th>3</th>\n",
              "      <td>-1.0</td>\n",
              "      <td>5</td>\n",
              "      <td>0.0</td>\n",
              "      <td>4.0</td>\n",
              "      <td>1</td>\n",
              "      <td>25.0</td>\n",
              "      <td>True</td>\n",
              "      <td>4</td>\n",
              "      <td>162791</td>\n",
              "      <td>37.090240</td>\n",
              "      <td>-95.712891</td>\n",
              "    </tr>\n",
              "    <tr>\n",
              "      <th>4</th>\n",
              "      <td>-1.0</td>\n",
              "      <td>5</td>\n",
              "      <td>1.0</td>\n",
              "      <td>4.0</td>\n",
              "      <td>1</td>\n",
              "      <td>49.0</td>\n",
              "      <td>False</td>\n",
              "      <td>1</td>\n",
              "      <td>162791</td>\n",
              "      <td>37.090240</td>\n",
              "      <td>-95.712891</td>\n",
              "    </tr>\n",
              "  </tbody>\n",
              "</table>\n",
              "</div>"
            ],
            "text/plain": [
              "   totals.bounces  totals.hits  ...   latitude  longitude\n",
              "0            -1.0            4  ...  20.593684  78.962880\n",
              "1            -1.0            4  ...  37.090240 -95.712891\n",
              "2            -1.0            4  ...  37.090240 -95.712891\n",
              "3            -1.0            5  ...  37.090240 -95.712891\n",
              "4            -1.0            5  ...  37.090240 -95.712891\n",
              "\n",
              "[5 rows x 11 columns]"
            ]
          },
          "metadata": {
            "tags": []
          },
          "execution_count": 17
        }
      ]
    },
    {
      "cell_type": "code",
      "metadata": {
        "id": "QQei6ogaA-pj",
        "colab_type": "code",
        "outputId": "2558c10e-9500-4485-fc41-fae35c83b6d6",
        "colab": {
          "base_uri": "https://localhost:8080/",
          "height": 230
        }
      },
      "source": [
        "X_test = encode(X_test)\n",
        "X_test.dtypes"
      ],
      "execution_count": 18,
      "outputs": [
        {
          "output_type": "execute_result",
          "data": {
            "text/plain": [
              "totals.bounces                float64\n",
              "totals.hits                     int64\n",
              "totals.newVisits              float64\n",
              "totals.pageviews              float64\n",
              "totals.sessionQualityDim        int64\n",
              "totals.timeOnSite             float64\n",
              "trafficSource.isTrueDirect      int64\n",
              "visitNumber                     int64\n",
              "country_dem                     int64\n",
              "latitude                      float64\n",
              "longitude                     float64\n",
              "dtype: object"
            ]
          },
          "metadata": {
            "tags": []
          },
          "execution_count": 18
        }
      ]
    },
    {
      "cell_type": "code",
      "metadata": {
        "id": "dadHtcO0BEyX",
        "colab_type": "code",
        "outputId": "aa16ddee-5caf-45ff-e676-ef1f108c3d44",
        "colab": {
          "base_uri": "https://localhost:8080/",
          "height": 396
        }
      },
      "source": [
        "X_test = scale(X_test)\n",
        "X_test.describe()"
      ],
      "execution_count": 19,
      "outputs": [
        {
          "output_type": "execute_result",
          "data": {
            "text/html": [
              "<div>\n",
              "<style scoped>\n",
              "    .dataframe tbody tr th:only-of-type {\n",
              "        vertical-align: middle;\n",
              "    }\n",
              "\n",
              "    .dataframe tbody tr th {\n",
              "        vertical-align: top;\n",
              "    }\n",
              "\n",
              "    .dataframe thead th {\n",
              "        text-align: right;\n",
              "    }\n",
              "</style>\n",
              "<table border=\"1\" class=\"dataframe\">\n",
              "  <thead>\n",
              "    <tr style=\"text-align: right;\">\n",
              "      <th></th>\n",
              "      <th>totals.bounces</th>\n",
              "      <th>totals.hits</th>\n",
              "      <th>totals.newVisits</th>\n",
              "      <th>totals.pageviews</th>\n",
              "      <th>totals.sessionQualityDim</th>\n",
              "      <th>totals.timeOnSite</th>\n",
              "      <th>trafficSource.isTrueDirect</th>\n",
              "      <th>visitNumber</th>\n",
              "      <th>country_dem</th>\n",
              "      <th>latitude</th>\n",
              "      <th>longitude</th>\n",
              "    </tr>\n",
              "  </thead>\n",
              "  <tbody>\n",
              "    <tr>\n",
              "      <th>count</th>\n",
              "      <td>3.614290e+05</td>\n",
              "      <td>3.614290e+05</td>\n",
              "      <td>3.614290e+05</td>\n",
              "      <td>3.614290e+05</td>\n",
              "      <td>3.614290e+05</td>\n",
              "      <td>3.614290e+05</td>\n",
              "      <td>3.614290e+05</td>\n",
              "      <td>3.614290e+05</td>\n",
              "      <td>3.614290e+05</td>\n",
              "      <td>3.614290e+05</td>\n",
              "      <td>3.614290e+05</td>\n",
              "    </tr>\n",
              "    <tr>\n",
              "      <th>mean</th>\n",
              "      <td>8.440292e-16</td>\n",
              "      <td>-3.907622e-15</td>\n",
              "      <td>-2.566713e-15</td>\n",
              "      <td>-8.597852e-15</td>\n",
              "      <td>-7.528747e-15</td>\n",
              "      <td>2.846723e-15</td>\n",
              "      <td>-1.193545e-14</td>\n",
              "      <td>-1.636408e-15</td>\n",
              "      <td>3.051309e-14</td>\n",
              "      <td>-9.451451e-15</td>\n",
              "      <td>1.187592e-14</td>\n",
              "    </tr>\n",
              "    <tr>\n",
              "      <th>std</th>\n",
              "      <td>1.000001e+00</td>\n",
              "      <td>1.000001e+00</td>\n",
              "      <td>1.000001e+00</td>\n",
              "      <td>1.000001e+00</td>\n",
              "      <td>1.000001e+00</td>\n",
              "      <td>1.000001e+00</td>\n",
              "      <td>1.000001e+00</td>\n",
              "      <td>1.000001e+00</td>\n",
              "      <td>1.000001e+00</td>\n",
              "      <td>1.000001e+00</td>\n",
              "      <td>1.000001e+00</td>\n",
              "    </tr>\n",
              "    <tr>\n",
              "      <th>min</th>\n",
              "      <td>-9.139619e-01</td>\n",
              "      <td>-4.559527e-01</td>\n",
              "      <td>-1.573631e+00</td>\n",
              "      <td>-4.954160e-01</td>\n",
              "      <td>-2.977721e-01</td>\n",
              "      <td>-3.847782e-01</td>\n",
              "      <td>-7.659207e-01</td>\n",
              "      <td>-1.385967e-01</td>\n",
              "      <td>-1.013661e+00</td>\n",
              "      <td>-3.998602e+00</td>\n",
              "      <td>-1.747320e+00</td>\n",
              "    </tr>\n",
              "    <tr>\n",
              "      <th>25%</th>\n",
              "      <td>-9.139619e-01</td>\n",
              "      <td>-4.559527e-01</td>\n",
              "      <td>-1.573631e+00</td>\n",
              "      <td>-4.954160e-01</td>\n",
              "      <td>-2.977721e-01</td>\n",
              "      <td>-3.847782e-01</td>\n",
              "      <td>-7.659207e-01</td>\n",
              "      <td>-1.385967e-01</td>\n",
              "      <td>-9.488859e-01</td>\n",
              "      <td>-3.342659e-01</td>\n",
              "      <td>-8.531999e-01</td>\n",
              "    </tr>\n",
              "    <tr>\n",
              "      <th>50%</th>\n",
              "      <td>-9.139619e-01</td>\n",
              "      <td>-3.481594e-01</td>\n",
              "      <td>6.354729e-01</td>\n",
              "      <td>-3.414586e-01</td>\n",
              "      <td>-2.977721e-01</td>\n",
              "      <td>-3.586454e-01</td>\n",
              "      <td>-7.659207e-01</td>\n",
              "      <td>-1.385967e-01</td>\n",
              "      <td>-6.753372e-01</td>\n",
              "      <td>2.214188e-01</td>\n",
              "      <td>-6.045244e-01</td>\n",
              "    </tr>\n",
              "    <tr>\n",
              "      <th>75%</th>\n",
              "      <td>1.094137e+00</td>\n",
              "      <td>8.301387e-02</td>\n",
              "      <td>6.354729e-01</td>\n",
              "      <td>1.204136e-01</td>\n",
              "      <td>-2.977721e-01</td>\n",
              "      <td>-1.077706e-01</td>\n",
              "      <td>1.305618e+00</td>\n",
              "      <td>-4.550683e-02</td>\n",
              "      <td>1.101223e+00</td>\n",
              "      <td>2.214188e-01</td>\n",
              "      <td>6.668346e-01</td>\n",
              "    </tr>\n",
              "    <tr>\n",
              "      <th>max</th>\n",
              "      <td>1.094137e+00</td>\n",
              "      <td>5.333291e+01</td>\n",
              "      <td>6.354729e-01</td>\n",
              "      <td>7.632933e+01</td>\n",
              "      <td>7.250969e+00</td>\n",
              "      <td>4.175174e+01</td>\n",
              "      <td>1.305618e+00</td>\n",
              "      <td>4.845431e+01</td>\n",
              "      <td>1.101223e+00</td>\n",
              "      <td>2.094501e+00</td>\n",
              "      <td>2.452350e+00</td>\n",
              "    </tr>\n",
              "  </tbody>\n",
              "</table>\n",
              "</div>"
            ],
            "text/plain": [
              "       totals.bounces   totals.hits  ...      latitude     longitude\n",
              "count    3.614290e+05  3.614290e+05  ...  3.614290e+05  3.614290e+05\n",
              "mean     8.440292e-16 -3.907622e-15  ... -9.451451e-15  1.187592e-14\n",
              "std      1.000001e+00  1.000001e+00  ...  1.000001e+00  1.000001e+00\n",
              "min     -9.139619e-01 -4.559527e-01  ... -3.998602e+00 -1.747320e+00\n",
              "25%     -9.139619e-01 -4.559527e-01  ... -3.342659e-01 -8.531999e-01\n",
              "50%     -9.139619e-01 -3.481594e-01  ...  2.214188e-01 -6.045244e-01\n",
              "75%      1.094137e+00  8.301387e-02  ...  2.214188e-01  6.668346e-01\n",
              "max      1.094137e+00  5.333291e+01  ...  2.094501e+00  2.452350e+00\n",
              "\n",
              "[8 rows x 11 columns]"
            ]
          },
          "metadata": {
            "tags": []
          },
          "execution_count": 19
        }
      ]
    },
    {
      "cell_type": "code",
      "metadata": {
        "id": "ZtM2-ZWIBRI8",
        "colab_type": "code",
        "outputId": "377cfad4-076e-49f1-d97f-d450f4a79943",
        "colab": {
          "base_uri": "https://localhost:8080/",
          "height": 35
        }
      },
      "source": [
        "linear_svc.score(X_test, y_test)"
      ],
      "execution_count": 20,
      "outputs": [
        {
          "output_type": "execute_result",
          "data": {
            "text/plain": [
              "0.8637713077810579"
            ]
          },
          "metadata": {
            "tags": []
          },
          "execution_count": 20
        }
      ]
    },
    {
      "cell_type": "code",
      "metadata": {
        "id": "WwpfEaNbzImQ",
        "colab_type": "code",
        "colab": {}
      },
      "source": [
        ""
      ],
      "execution_count": 0,
      "outputs": []
    },
    {
      "cell_type": "code",
      "metadata": {
        "id": "3snV7Kjt9civ",
        "colab_type": "code",
        "colab": {}
      },
      "source": [
        "with open(\"linear_clf.pickle\", \"wb\") as file_handle:\n",
        "  pickle.dump(linear_svc, file_handle, protocol=pickle.HIGHEST_PROTOCOL)"
      ],
      "execution_count": 0,
      "outputs": []
    },
    {
      "cell_type": "code",
      "metadata": {
        "id": "j8LOned997rd",
        "colab_type": "code",
        "outputId": "88ebd99e-33f6-40ea-9c47-1a6b3cc7737c",
        "colab": {
          "base_uri": "https://localhost:8080/",
          "height": 52
        }
      },
      "source": [
        "!ls"
      ],
      "execution_count": 0,
      "outputs": [
        {
          "output_type": "stream",
          "text": [
            "11152019_test_final.csv  11152019_train_final.csv  linear_clf.pickle\n",
            "11152019_test_final.zip  11152019_train_final.zip  modelling_corr.ipynb\n"
          ],
          "name": "stdout"
        }
      ]
    },
    {
      "cell_type": "code",
      "metadata": {
        "id": "r2Nj23If-oGS",
        "colab_type": "code",
        "outputId": "9f1d730b-a034-4dcf-ee9f-a7f378b03b18",
        "colab": {
          "base_uri": "https://localhost:8080/",
          "height": 35
        }
      },
      "source": [
        "with open(\"linear_clf.pickle\", \"rb\") as file_handle:\n",
        "  clf = pickle.load(file_handle)\n",
        "\n",
        "clf == linear_svc"
      ],
      "execution_count": 0,
      "outputs": [
        {
          "output_type": "execute_result",
          "data": {
            "text/plain": [
              "False"
            ]
          },
          "metadata": {
            "tags": []
          },
          "execution_count": 30
        }
      ]
    }
  ]
}